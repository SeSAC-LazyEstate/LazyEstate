{
 "cells": [
  {
   "cell_type": "code",
   "execution_count": null,
   "id": "6d5c2701-d4dd-48dc-81e2-b5e2ae1e8f1d",
   "metadata": {
    "id": "6d5c2701-d4dd-48dc-81e2-b5e2ae1e8f1d"
   },
   "outputs": [],
   "source": [
    "# 뉴스데이터 출처 - https://www.dropbox.com/sh/w4bh7hjkiw8jqmv/AACfhauVZuHLMkNxv7bWxeYia?dl=0"
   ]
  },
  {
   "cell_type": "code",
   "execution_count": null,
   "id": "05fbda9d-73ce-428b-a363-1e1fb85e3418",
   "metadata": {
    "id": "05fbda9d-73ce-428b-a363-1e1fb85e3418"
   },
   "outputs": [],
   "source": [
    "'''\n",
    "0. 데이터 불러오기 - 몽고디비 사용 X\n",
    "0-1. 데이터 불러오기 - 일주일치 파일 -> 제목에 아파트가 있는 데이터만 csv파일로 저장함\n",
    "0-2. apart_dataframe.csv 파일 열어서 사용\n",
    "\n",
    "\n",
    "\n",
    "1. 제목에 '아파트' 가 들어있는 기사만 사용\n",
    "2. 데이터 수집하기 << 진행중\n",
    "2-1. 날짜에 따라 기사 건수를 저장해서 데이터 프레임을 만든다  -> 시각화해서 아파트가 언제 기사가 많이 나왔는지 확인\n",
    "2-2. 텍스트의 빈도수를 가지고 있는 데이터 프레임을 만든다   -> 아파트와 연관 단어를 찾는다\n",
    "3. EDA를 한다\n",
    "4.\n",
    "\n",
    "'''"
   ]
  },
  {
   "cell_type": "code",
   "execution_count": null,
   "id": "d81318f0-5304-403d-b0d2-b3cb164b730b",
   "metadata": {
    "id": "d81318f0-5304-403d-b0d2-b3cb164b730b"
   },
   "outputs": [],
   "source": [
    "# .pkl은 피클이라는 파일이다\n",
    "# pandas로 가져올 수 있음\n",
    "# pd.read_pickle(\"파일명.pkl\")  해서 불러올 수 있다."
   ]
  },
  {
   "cell_type": "code",
   "execution_count": null,
   "id": "30942f65-7c42-4c8b-8200-f0887252641a",
   "metadata": {
    "id": "30942f65-7c42-4c8b-8200-f0887252641a"
   },
   "outputs": [],
   "source": [
    "# 2023-08-14 ~ 2023-08-21 뉴스데이터 사용"
   ]
  },
  {
   "cell_type": "markdown",
   "id": "8HXh4tSa0_ik",
   "metadata": {
    "id": "8HXh4tSa0_ik"
   },
   "source": [
    "### 0. 환경 설정"
   ]
  },
  {
   "cell_type": "code",
   "execution_count": 2,
   "id": "d0d6282f-9ab7-44ce-81f2-0f17141397f4",
   "metadata": {
    "colab": {
     "base_uri": "https://localhost:8080/",
     "height": 544
    },
    "id": "d0d6282f-9ab7-44ce-81f2-0f17141397f4",
    "outputId": "2399c444-4287-42ff-d973-555412a2fbee"
   },
   "outputs": [
    {
     "name": "stderr",
     "output_type": "stream",
     "text": [
      "C:\\Users\\user\\AppData\\Local\\Temp\\ipykernel_14720\\25648809.py:65: DeprecationWarning: `set_matplotlib_formats` is deprecated since IPython 7.23, directly use `matplotlib_inline.backend_inline.set_matplotlib_formats()`\n",
      "  set_matplotlib_formats(\"retina\")\n"
     ]
    }
   ],
   "source": [
    "# 라이브러리 설정\n",
    "import numpy as np\n",
    "import pandas as pd\n",
    "\n",
    "import matplotlib.pyplot as plt\n",
    "import seaborn as sns\n",
    "\n",
    "'''\n",
    "# 폰트 환경설정 - 구글 코랩 ========================\n",
    "# matplotlib에서 한글 깨짐 문제 발생\n",
    "# 한글 폰트 사용을 위해서 폰트 설치\n",
    "# 참고 - https://www.whatwant.com/entry/matplotlib-hangul-colab-local\n",
    "# 실행 후 런타임 다시 시작해야 함\n",
    "!sudo apt-get install -y fonts-nanum\n",
    "!sudo fc-cache -fv\n",
    "!rm ~/.cache/matplotlib -rf\n",
    "\n",
    "\n",
    "#설치한 폰트 사용\n",
    "plt.rc('font', family='NanumBarunGothic')\n",
    "'''\n",
    "\n",
    "\n",
    "\n",
    "# 폰트 환경설정 - 주피터 노트북 ========================\n",
    "def get_font_family():\n",
    "    \"\"\"\n",
    "    시스템 환경에 따른 기본 폰트명을 반환하는 함수\n",
    "    \"\"\"\n",
    "    import platform\n",
    "    system_name = platform.system()\n",
    "\n",
    "    if system_name == \"Darwin\" :\n",
    "        font_family = \"AppleGothic\"\n",
    "    elif system_name == \"Windows\":\n",
    "        font_family = \"Malgun Gothic\"\n",
    "    else:\n",
    "        # Linux(colab)\n",
    "        !apt-get install fonts-nanum -qq  > /dev/null\n",
    "        !fc-cache -fv\n",
    "\n",
    "        import matplotlib as mpl\n",
    "        mpl.font_manager._rebuild()\n",
    "        findfont = mpl.font_manager.fontManager.findfont\n",
    "        mpl.font_manager.findfont = findfont\n",
    "        mpl.backends.backend_agg.findfont = findfont\n",
    "\n",
    "        font_family = \"NanumBarunGothic\"\n",
    "    return font_family\n",
    "\n",
    "# 시각화를 위한 폰트설정\n",
    "# 위에서 만든 함수를 통해 시스템 폰트를 불러와서 font_family 라는 변수에 할당합니다.\n",
    "import matplotlib.pyplot as plt\n",
    "\n",
    "# ggplot으로 그래프 스타일 설정\n",
    "plt.style.use(\"ggplot\")\n",
    "\n",
    "font_family = get_font_family()\n",
    "# 폰트설정\n",
    "plt.rc(\"font\", family=font_family)\n",
    "# 마이너스폰트 설정\n",
    "plt.rc(\"axes\", unicode_minus=False)\n",
    "# 그래프에 retina display 적용\n",
    "from IPython.display import set_matplotlib_formats\n",
    "set_matplotlib_formats(\"retina\")\n"
   ]
  },
  {
   "cell_type": "markdown",
   "id": "nBz6HNHXn0tm",
   "metadata": {
    "id": "nBz6HNHXn0tm"
   },
   "source": [
    "### 1. 함수 정의"
   ]
  },
  {
   "cell_type": "markdown",
   "id": "qgvQQvdmn_K3",
   "metadata": {
    "id": "qgvQQvdmn_K3"
   },
   "source": [
    "#### 1-1. make_remove_text_list 함수 (제거할 텍스트가 담긴 리스트를 반환)"
   ]
  },
  {
   "cell_type": "code",
   "execution_count": 3,
   "id": "fd57a5d4-0aeb-4f12-ba43-37183412c8dd",
   "metadata": {
    "id": "fd57a5d4-0aeb-4f12-ba43-37183412c8dd"
   },
   "outputs": [],
   "source": [
    "# 제거할 텍스트 키워드들이 들어있는 파일을 불러와서 리스트로 변환하기\n",
    "\n",
    "def make_remove_text_list():\n",
    "    filename = '제거키워드/remove_text_list.txt'\n",
    "    tmp_data = open(filename, mode='r', encoding='UTF-8')\n",
    "    tmp_data = tmp_data.read()\n",
    "    tmp_data = tmp_data.replace(\"'\",\"\").replace(\"\\n\",\"\").split(',')\n",
    "\n",
    "    remove_text_list = []\n",
    "\n",
    "    # 단어의 앞,뒤 띄어쓰기 제거\n",
    "    for text in tmp_data:\n",
    "        text = text.strip()\n",
    "        remove_text_list.append(text)\n",
    "\n",
    "    # 띄어쓰기와 쉼표를 remove_text_list에 추가\n",
    "    remove_text_list.append(\" \")\n",
    "    remove_text_list.append(\",\")\n",
    "    remove_text_list.append(\"'\")\n",
    "    remove_text_list.append('\"')\n",
    "    remove_text_list.append('정보,')\n",
    "\n",
    "\n",
    "    remove_text_list = set(remove_text_list)\n",
    "    return remove_text_list"
   ]
  },
  {
   "cell_type": "markdown",
   "id": "13dg3GpeoWSm",
   "metadata": {
    "id": "13dg3GpeoWSm"
   },
   "source": [
    "#### 1-2. make_remove_ner_list 함수 (제거할 ner 종류가 담긴 리스트를 반환)"
   ]
  },
  {
   "cell_type": "code",
   "execution_count": 4,
   "id": "30b019fd-4989-482d-86fc-990b183e25d8",
   "metadata": {
    "id": "30b019fd-4989-482d-86fc-990b183e25d8"
   },
   "outputs": [],
   "source": [
    "# 제거할 ner 구분 키워드들이 들어있는 파일을 불러와서 리스트로 변환하기\n",
    "\n",
    "def make_remove_ner_list():\n",
    "    filename = '제거키워드/remove_ner_list.txt'\n",
    "    tmp_data = open(filename, mode='r', encoding='UTF-8')\n",
    "    tmp_data = tmp_data.read()\n",
    "    tmp_data = tmp_data.replace(\"'\",\"\").replace(\"\\n\",\"\").split(',')\n",
    "\n",
    "    remove_ner_list = []\n",
    "\n",
    "    # 띄어쓰기 제거\n",
    "    for text in tmp_data:\n",
    "        text = text.strip()\n",
    "        remove_ner_list.append(text)\n",
    "\n",
    "    remove_ner_list = set(remove_ner_list)\n",
    "    return remove_ner_list"
   ]
  },
  {
   "cell_type": "markdown",
   "id": "gFAch4xTol9T",
   "metadata": {
    "id": "gFAch4xTol9T"
   },
   "source": [
    "#### 1-3. make_idxList, make_ners, make_apart_ners 함수"
   ]
  },
  {
   "cell_type": "code",
   "execution_count": 5,
   "id": "9fdd8126-2c0b-4133-9af6-05a9b18a6ce0",
   "metadata": {
    "id": "9fdd8126-2c0b-4133-9af6-05a9b18a6ce0"
   },
   "outputs": [],
   "source": [
    "'''\n",
    "'아파트' 가 제목에 포함된 뉴스기사의 인덱스를 idxList 리스트로 저장\n",
    "\n",
    "'''\n",
    "# 아파트 키워드가 제목에 포함된 뉴스기사의 인덱스를 idxList 리스트로 저장한다.\n",
    "# 본문에 포함된 건 좀 광범위해서 제목에 포함된 것만 하기로 변경\n",
    "\n",
    "def make_idxList(data):\n",
    "    idxList = []\n",
    "\n",
    "    for idx, title in enumerate(data.loc[:, 'title']):\n",
    "        if title.find(\"아파트\") != -1:\n",
    "            idxList.append(idx)\n",
    "\n",
    "    return idxList\n",
    "\n",
    "\n",
    "\n",
    "# 인덱스리스트를 이용해서 ner을 추출한다.\n",
    "def make_ners(data, idxList):\n",
    "    ners = data.loc[idxList, 'ner']\n",
    "    return ners\n",
    "\n",
    "\n",
    "def make_apart_ners(data):\n",
    "    idxList = make_idxList(data)\n",
    "    apart_ners = make_ners(data, idxList)\n",
    "    return apart_ners"
   ]
  },
  {
   "cell_type": "markdown",
   "id": "LV-yEWTCovEL",
   "metadata": {
    "id": "LV-yEWTCovEL"
   },
   "source": [
    "#### 1-4.make_all_freq_result 함수"
   ]
  },
  {
   "cell_type": "code",
   "execution_count": 6,
   "id": "9a06427d-73e7-480c-8226-df4f449bc065",
   "metadata": {
    "id": "9a06427d-73e7-480c-8226-df4f449bc065"
   },
   "outputs": [],
   "source": [
    "file = open('corp_type_230815_230821.txt', 'r', encoding='cp949')\n",
    "corp_list = file.read()\n",
    "corp_list = eval(corp_list)"
   ]
  },
  {
   "cell_type": "code",
   "execution_count": 7,
   "id": "08982bdb-1205-4ec2-a18d-96c1fd6ee157",
   "metadata": {
    "id": "08982bdb-1205-4ec2-a18d-96c1fd6ee157"
   },
   "outputs": [],
   "source": [
    "'''\n",
    "단어의 빈도수를 딕셔너리 형태로 저장\n",
    "freq_result를 만드는 함수\n",
    "\n",
    "예) {\"아파트\":5, \"부동산\":3, ... }\n",
    "\n",
    "파라미터: apart_ners\n",
    "리턴값: freq_result\n",
    "'''\n",
    "\n",
    "# end_words 리스트 안에 있는 단어가 나왔을 때 그 뒤에 나오는 단어는 저장되지 않음\n",
    "# 정규표현식 사용해서 단어 여러개 중에 포함되면 그때 True로 바뀌게끔 하면 좋을 듯..\n",
    "end_words = ['다음뉴스', '통신사.', '생각하시나요?', 'YTN', '타임톡beta', '타임톡', '저작권자', '경기일보', 'ⓒ', '한국일보', 'MBC뉴스', '제보하기', '세계일보', '헤럴드경제', 'Copyrightsⓒ', '다음뉴스를']\n",
    "end_words = end_words + corp_list\n",
    "\n",
    "\n",
    "def make_all_freq_result(apart_ners):\n",
    "\n",
    "    #ner에서 단어들을 list_result에 넣기\n",
    "    list_result = []\n",
    "    for idx, ner in enumerate(apart_ners):\n",
    "        end_word_yn = False\n",
    "        for list in eval(ner):\n",
    "            for tup in list:\n",
    "                text = tup[0]\n",
    "                type = tup[1]\n",
    "                if (type not in remove_ner_list) & (text not in remove_text_list) & (len(text) > 1):\n",
    "                    if text in end_words:\n",
    "                        end_word_yn = True\n",
    "                        break\n",
    "                    else:\n",
    "                        list_result.append(text)\n",
    "\n",
    "            if end_word_yn == True:\n",
    "                break\n",
    "\n",
    "\n",
    "    freq_result = {}\n",
    "    for w in list_result:\n",
    "        #freq_result에 들어있지 않다면\n",
    "        if w not in freq_result:\n",
    "            freq_result[w] = 1\n",
    "        #freq_result에 들어있다면\n",
    "        elif w in freq_result:\n",
    "            freq_result[w] += 1\n",
    "\n",
    "    return freq_result"
   ]
  },
  {
   "cell_type": "markdown",
   "id": "Ud05Zhrdo2kW",
   "metadata": {
    "id": "Ud05Zhrdo2kW"
   },
   "source": [
    "#### 1-5. make_day_freq_result 함수"
   ]
  },
  {
   "cell_type": "code",
   "execution_count": 8,
   "id": "a7a37c3b-4af3-4923-9749-311e94c52bc4",
   "metadata": {
    "id": "a7a37c3b-4af3-4923-9749-311e94c52bc4"
   },
   "outputs": [],
   "source": [
    "'''\n",
    "단어의 빈도수를 딕셔너리 형태로 저장\n",
    "freq_result를 만드는 함수\n",
    "\n",
    "예) {\"아파트\":5, \"부동산\":3, ... }\n",
    "\n",
    "파라미터: apart_ners\n",
    "리턴값: freq_result\n",
    "'''\n",
    "\n",
    "# end_words 리스트 안에 있는 단어가 나왔을 때 그 뒤에 나오는 단어는 저장되지 않음\n",
    "# 정규표현식 사용해서 단어 여러개 중에 포함되면 그때 True로 바뀌게끔 하면 좋을 듯..\n",
    "end_words = ['다음뉴스', '통신사.', '생각하시나요?', 'YTN', '타임톡beta', '타임톡', '저작권자', '경기일보', 'ⓒ', '한국일보', 'MBC뉴스', '제보하기', '세계일보', '헤럴드경제', 'Copyrightsⓒ', '다음뉴스를']\n",
    "end_words = end_words + corp_list\n",
    "\n",
    "\n",
    "dict_result = {}\n",
    "\n",
    "\n",
    "def make_day_freq_result(data):\n",
    "\n",
    "    apart_ners = make_apart_ners(data)\n",
    "\n",
    "    #ner에서 단어들을 list_result에 넣기\n",
    "    list_result = []\n",
    "    for idx, ner in enumerate(apart_ners):\n",
    "        freq_result = {}\n",
    "\n",
    "        end_word_yn = False\n",
    "        for list in eval(ner):\n",
    "            for tup in list:\n",
    "                text = tup[0]\n",
    "                type = tup[1]\n",
    "                if (type not in remove_ner_list) & (text not in remove_text_list) & (len(text) > 1):\n",
    "                    if text in end_words: # 이 단어가 있으면 반복문을 끝내라\n",
    "                        end_word_yn = True\n",
    "                        break\n",
    "                    else:\n",
    "                        #freq_result에 들어있지 않다면\n",
    "                        if text not in freq_result:\n",
    "                            freq_result[text] = 1\n",
    "                        elif text in freq_result:\n",
    "                            freq_result[text] += 1\n",
    "\n",
    "            if end_word_yn == True:\n",
    "                break\n",
    "\n",
    "        day = data.loc[idx].day\n",
    "        day = str(day)\n",
    "\n",
    "        tmp = {}\n",
    "        tmp[day] = freq_result\n",
    "\n",
    "        #dict_result에 같은 날짜가 있으면...\n",
    "        if day in dict_result.keys():\n",
    "            for sub_key in tmp[day]:\n",
    "                if sub_key in dict_result[day]:\n",
    "                    dict_result[day][sub_key] = dict_result[day][sub_key] + tmp[day][sub_key]\n",
    "                    # print(cal)\n",
    "                else:\n",
    "                    dict_result[day][sub_key] = tmp[day][sub_key]\n",
    "        else:\n",
    "            dict_result[day] = tmp[day]\n",
    "\n",
    "\n",
    "    return dict_result"
   ]
  },
  {
   "cell_type": "markdown",
   "id": "p8gIar2GyUhd",
   "metadata": {
    "id": "p8gIar2GyUhd"
   },
   "source": [
    "#### 1-6. sort_dict_values 함수"
   ]
  },
  {
   "cell_type": "code",
   "execution_count": 9,
   "id": "c2c3f1d3-97f8-4a29-a0ce-2cadcc59e980",
   "metadata": {
    "id": "c2c3f1d3-97f8-4a29-a0ce-2cadcc59e980"
   },
   "outputs": [],
   "source": [
    "# 딕셔너리를 value를 내림차순으로 출력\n",
    "def sort_dict_values(dict):\n",
    "    print(sorted(dict.items(), reverse=True, key= lambda item:item[1]))"
   ]
  },
  {
   "cell_type": "markdown",
   "id": "zVqkq-p6o83j",
   "metadata": {
    "id": "zVqkq-p6o83j"
   },
   "source": [
    "### 2. 필요한 데이터 가공"
   ]
  },
  {
   "cell_type": "markdown",
   "id": "LCbYhxlupM-0",
   "metadata": {
    "id": "LCbYhxlupM-0",
    "jp-MarkdownHeadingCollapsed": true
   },
   "source": [
    "#### 2-1. csv파일 저장"
   ]
  },
  {
   "cell_type": "code",
   "execution_count": null,
   "id": "5bb8909a-88fa-4806-a4a8-31c0cbe999d3",
   "metadata": {
    "id": "5bb8909a-88fa-4806-a4a8-31c0cbe999d3"
   },
   "outputs": [],
   "source": [
    "#뉴스 데이터 데이터프레임 칼럼 특징\n",
    "\n",
    "#url - 링크\n",
    "#title - 뉴스 제목\n",
    "#corp - 신문사 이름\n",
    "#thumb - 썸네일 사진 링크\n",
    "#day - 생성 일시\n",
    "#time - 생성 시간\n",
    "#category - 뉴스 카테고리\n",
    "#img - 이미지 링크\n",
    "#text - 텍스트로만 이뤄짐\n",
    "#parsing - 파싱 데이터\n",
    "#ner - 개체명 인식 데이터 (분류되어 있다.)\n",
    "\n",
    "#ner 분류 참고 https://core.today/g/a0U1R29/c/M2dyhL492cp1o/f3V0jJ04y2"
   ]
  },
  {
   "cell_type": "code",
   "execution_count": null,
   "id": "baf161b8-b415-453c-beff-f6222cb5ae2c",
   "metadata": {
    "id": "baf161b8-b415-453c-beff-f6222cb5ae2c"
   },
   "outputs": [],
   "source": [
    "# 데이터프레임을 불러와 하나의 데이터프레임으로 합친 후 csv에 저장\n",
    "\n",
    "\n",
    "# 사용할 칼럼: ['title','text', 'parsing', 'ner', 'day']\n",
    "# 데이터 불러올 때 오래 걸린다. 몇십분정도\n",
    "data_0815 = pd.read_pickle(\"뉴스데이터/20230815.pkl\")\n",
    "data_0816 = pd.read_pickle(\"뉴스데이터/20230816.pkl\")\n",
    "data_0817 = pd.read_pickle(\"뉴스데이터/20230817.pkl\")\n",
    "data_0818 = pd.read_pickle(\"뉴스데이터/20230818.pkl\")\n",
    "data_0819 = pd.read_pickle(\"뉴스데이터/20230819.pkl\")\n",
    "data_0820 = pd.read_pickle(\"뉴스데이터/20230820.pkl\")\n",
    "data_0821 = pd.read_pickle(\"뉴스데이터/20230821.pkl\")\n",
    "\n",
    "data = pd.concat([data_0815, data_0816, data_0817, data_0818, data_0819, data_0820, data_0821], ignore_index=True)\n",
    "\n",
    "#데이터프레임 합친 후 csv에 저장\n",
    "idxList = make_idxList(data)\n",
    "csv_data = data.loc[idxList,['title','text', 'parsing', 'ner', 'day']]\n",
    "csv_data.to_csv(\"apart_dataframe.csv\")\n",
    "\n",
    "#기관 종류 중복없이 저장\n",
    "corp_type = list(set(data.loc[:,'corp']))"
   ]
  },
  {
   "cell_type": "markdown",
   "id": "VkV-UQUApQhQ",
   "metadata": {
    "id": "VkV-UQUApQhQ",
    "jp-MarkdownHeadingCollapsed": true
   },
   "source": [
    "#### 2-2. txt파일 저장"
   ]
  },
  {
   "cell_type": "code",
   "execution_count": null,
   "id": "4adf22a3-1bf0-4bd0-8879-c94cda7101f5",
   "metadata": {
    "id": "4adf22a3-1bf0-4bd0-8879-c94cda7101f5",
    "outputId": "47d82087-6288-4c73-bf14-7f5bb50e036e"
   },
   "outputs": [
    {
     "data": {
      "text/plain": [
       "1244"
      ]
     },
     "execution_count": 18,
     "metadata": {},
     "output_type": "execute_result"
    }
   ],
   "source": [
    "#기관 종류 중복없이 텍스트파일로 저장\n",
    "f = open(r'corp_type_230815_230821.txt', 'w')\n",
    "f.write(str(corp_type))\n",
    "f.close()"
   ]
  },
  {
   "cell_type": "markdown",
   "id": "5CAudphxzJ3j",
   "metadata": {
    "id": "5CAudphxzJ3j"
   },
   "source": [
    "#### 2-3. 함수 호출해서 변수 저장"
   ]
  },
  {
   "cell_type": "code",
   "execution_count": 10,
   "id": "7a434785-01e3-48b9-b373-f52efac5f401",
   "metadata": {
    "id": "7a434785-01e3-48b9-b373-f52efac5f401"
   },
   "outputs": [],
   "source": [
    "# ✨ 저장한 csv 파일 불러와서 사용\n",
    "data = pd.read_csv(\"apart_dataframe.csv\")\n",
    "\n",
    "\n",
    "# 함수 호출해서 변수에 저장\n",
    "\n",
    "# (사회, O)  에서     0번 인덱스는 remove_text_list, 1번 인덱스는 remove_ner_list\n",
    "# 1. remove_text_list : 제거할 텍스트 키워드\n",
    "# 2. remove_ner_list : 제거할 ner 키워드\n",
    "\n",
    "# 3. idxList : 아파트 키워드가 제목에 포함된 뉴스기사의 인덱스\n",
    "# 4. freq_result : 단어의 빈도수 딕셔너리 / 예) {\"아파트\":5, \"부동산\":3, ... }\n",
    "\n",
    "\n",
    "remove_text_list = make_remove_text_list()\n",
    "remove_ner_list = make_remove_ner_list()\n",
    "apart_ners = make_apart_ners(data)\n",
    "# 기간동안 전체 단어의 건수\n",
    "all_freq_result = make_all_freq_result(apart_ners)\n",
    "# 날마다 단어의 건수\n",
    "day_freq_result = make_day_freq_result(data)"
   ]
  },
  {
   "cell_type": "markdown",
   "id": "4RSHbsJvpc7q",
   "metadata": {
    "id": "4RSHbsJvpc7q"
   },
   "source": [
    "### 3. 시각화"
   ]
  },
  {
   "cell_type": "markdown",
   "id": "prUIQiHepf15",
   "metadata": {
    "id": "prUIQiHepf15"
   },
   "source": [
    "#### 3-1. 선그래프"
   ]
  },
  {
   "cell_type": "code",
   "execution_count": null,
   "id": "4dddff35-caf1-4c67-b72a-7595078e3196",
   "metadata": {
    "id": "4dddff35-caf1-4c67-b72a-7595078e3196"
   },
   "outputs": [],
   "source": [
    "# ========================================================================\n",
    "# ✨각 일자의 건수를 구해서 데이터프레임 만들고 선그래프 시각화하기"
   ]
  },
  {
   "cell_type": "code",
   "execution_count": 20,
   "id": "7e9d4817-7c3e-4fd0-aca7-d3e0242f706b",
   "metadata": {
    "id": "7e9d4817-7c3e-4fd0-aca7-d3e0242f706b"
   },
   "outputs": [],
   "source": [
    "data = pd.read_csv(\"apart_dataframe.csv\")\n",
    "count_df = pd.DataFrame(data.groupby('day').count()['ner']).reset_index()\n",
    "count_df.columns  = ['날짜', '언급기사건수']"
   ]
  },
  {
   "cell_type": "code",
   "execution_count": 21,
   "id": "4ed8d9b0-c0c2-46ec-9bc3-03d217efa1e6",
   "metadata": {
    "id": "4ed8d9b0-c0c2-46ec-9bc3-03d217efa1e6",
    "outputId": "f6bb519d-0a9b-49b5-a41c-6d1314de1785",
    "scrolled": true
   },
   "outputs": [
    {
     "data": {
      "text/html": [
       "<div>\n",
       "<style scoped>\n",
       "    .dataframe tbody tr th:only-of-type {\n",
       "        vertical-align: middle;\n",
       "    }\n",
       "\n",
       "    .dataframe tbody tr th {\n",
       "        vertical-align: top;\n",
       "    }\n",
       "\n",
       "    .dataframe thead th {\n",
       "        text-align: right;\n",
       "    }\n",
       "</style>\n",
       "<table border=\"1\" class=\"dataframe\">\n",
       "  <thead>\n",
       "    <tr style=\"text-align: right;\">\n",
       "      <th></th>\n",
       "      <th>날짜</th>\n",
       "      <th>언급기사건수</th>\n",
       "    </tr>\n",
       "  </thead>\n",
       "  <tbody>\n",
       "    <tr>\n",
       "      <th>0</th>\n",
       "      <td>20230815</td>\n",
       "      <td>72</td>\n",
       "    </tr>\n",
       "    <tr>\n",
       "      <th>1</th>\n",
       "      <td>20230816</td>\n",
       "      <td>148</td>\n",
       "    </tr>\n",
       "    <tr>\n",
       "      <th>2</th>\n",
       "      <td>20230817</td>\n",
       "      <td>163</td>\n",
       "    </tr>\n",
       "    <tr>\n",
       "      <th>3</th>\n",
       "      <td>20230818</td>\n",
       "      <td>111</td>\n",
       "    </tr>\n",
       "    <tr>\n",
       "      <th>4</th>\n",
       "      <td>20230819</td>\n",
       "      <td>28</td>\n",
       "    </tr>\n",
       "    <tr>\n",
       "      <th>5</th>\n",
       "      <td>20230820</td>\n",
       "      <td>53</td>\n",
       "    </tr>\n",
       "    <tr>\n",
       "      <th>6</th>\n",
       "      <td>20230821</td>\n",
       "      <td>125</td>\n",
       "    </tr>\n",
       "  </tbody>\n",
       "</table>\n",
       "</div>"
      ],
      "text/plain": [
       "         날짜  언급기사건수\n",
       "0  20230815      72\n",
       "1  20230816     148\n",
       "2  20230817     163\n",
       "3  20230818     111\n",
       "4  20230819      28\n",
       "5  20230820      53\n",
       "6  20230821     125"
      ]
     },
     "execution_count": 21,
     "metadata": {},
     "output_type": "execute_result"
    }
   ],
   "source": [
    "count_df"
   ]
  },
  {
   "cell_type": "code",
   "execution_count": 23,
   "id": "cf08455c-9c68-4a43-87e7-0f110c91b76e",
   "metadata": {},
   "outputs": [
    {
     "name": "stdout",
     "output_type": "stream",
     "text": [
      "<class 'pandas.core.frame.DataFrame'>\n",
      "RangeIndex: 7 entries, 0 to 6\n",
      "Data columns (total 2 columns):\n",
      " #   Column  Non-Null Count  Dtype\n",
      "---  ------  --------------  -----\n",
      " 0   날짜      7 non-null      int64\n",
      " 1   언급기사건수  7 non-null      int64\n",
      "dtypes: int64(2)\n",
      "memory usage: 244.0 bytes\n"
     ]
    }
   ],
   "source": [
    "count_df.info()"
   ]
  },
  {
   "cell_type": "code",
   "execution_count": 24,
   "id": "d94ffe1d-b4be-436f-8631-18d04fb5ae96",
   "metadata": {},
   "outputs": [],
   "source": [
    "count_df = count_df.astype({'날짜':'str'})"
   ]
  },
  {
   "cell_type": "code",
   "execution_count": 25,
   "id": "09dfea4b-6fd9-4526-89ec-e819463b7155",
   "metadata": {
    "colab": {
     "base_uri": "https://localhost:8080/",
     "height": 471
    },
    "id": "09dfea4b-6fd9-4526-89ec-e819463b7155",
    "outputId": "b63a308d-6af9-4901-c2e2-07d1092c6e1e"
   },
   "outputs": [
    {
     "data": {
      "image/png": "[encoded data removed]",
      "text/plain": [
       "<Figure size 640x480 with 1 Axes>"
      ]
     },
     "metadata": {
      "image/png": {
       "height": 459,
       "width": 578
      }
     },
     "output_type": "display_data"
    }
   ],
   "source": [
    "import matplotlib.pyplot as plt\n",
    "import seaborn as sns\n",
    "\n",
    "#plt.plot(df['언급기사건수'])\n",
    "sns.lineplot(x='날짜', y='언급기사건수', data=count_df, color='green')\n",
    "plt.title('아파트 언급 건수(제목)')\n",
    "plt.show()"
   ]
  },
  {
   "cell_type": "markdown",
   "id": "UDlBr7OSqAHc",
   "metadata": {
    "id": "UDlBr7OSqAHc"
   },
   "source": [
    "#### 3-2. 날짜별 트렌드 단어 그래프 - 막대, 누적막대"
   ]
  },
  {
   "cell_type": "code",
   "execution_count": null,
   "id": "05885c0e-519d-4066-bca9-1a8a52bbd1ed",
   "metadata": {
    "id": "05885c0e-519d-4066-bca9-1a8a52bbd1ed"
   },
   "outputs": [],
   "source": [
    "# =======================================================\n",
    "# ✨ 날짜별로 빈도수\n",
    "# -> 갑자기 급등한 단어가 있는지!!\n",
    "# Top 5 만 선그래프로 비교해보자!!!!!!"
   ]
  },
  {
   "cell_type": "code",
   "execution_count": null,
   "id": "hhnwSSPz9O2I",
   "metadata": {
    "colab": {
     "base_uri": "https://localhost:8080/",
     "height": 423
    },
    "id": "hhnwSSPz9O2I",
    "outputId": "f83de37f-8c3e-4b00-e369-e7b65cd27fac"
   },
   "outputs": [
    {
     "data": {
      "text/html": [
       "\n",
       "  <div id=\"df-06bb7f6e-8c10-4df3-9af8-47c86418ccbe\" class=\"colab-df-container\">\n",
       "    <div>\n",
       "<style scoped>\n",
       "    .dataframe tbody tr th:only-of-type {\n",
       "        vertical-align: middle;\n",
       "    }\n",
       "\n",
       "    .dataframe tbody tr th {\n",
       "        vertical-align: top;\n",
       "    }\n",
       "\n",
       "    .dataframe thead th {\n",
       "        text-align: right;\n",
       "    }\n",
       "</style>\n",
       "<table border=\"1\" class=\"dataframe\">\n",
       "  <thead>\n",
       "    <tr style=\"text-align: right;\">\n",
       "      <th></th>\n",
       "      <th>20230815</th>\n",
       "      <th>20230816</th>\n",
       "      <th>20230817</th>\n",
       "      <th>20230818</th>\n",
       "      <th>20230819</th>\n",
       "      <th>20230820</th>\n",
       "      <th>20230821</th>\n",
       "    </tr>\n",
       "  </thead>\n",
       "  <tbody>\n",
       "    <tr>\n",
       "      <th>경주</th>\n",
       "      <td>9.0</td>\n",
       "      <td>0.0</td>\n",
       "      <td>0.0</td>\n",
       "      <td>0.0</td>\n",
       "      <td>0.0</td>\n",
       "      <td>0.0</td>\n",
       "      <td>0.0</td>\n",
       "    </tr>\n",
       "    <tr>\n",
       "      <th>건설</th>\n",
       "      <td>4.0</td>\n",
       "      <td>12.0</td>\n",
       "      <td>1.0</td>\n",
       "      <td>2.0</td>\n",
       "      <td>0.0</td>\n",
       "      <td>3.0</td>\n",
       "      <td>4.0</td>\n",
       "    </tr>\n",
       "    <tr>\n",
       "      <th>구조물</th>\n",
       "      <td>1.0</td>\n",
       "      <td>0.0</td>\n",
       "      <td>0.0</td>\n",
       "      <td>0.0</td>\n",
       "      <td>0.0</td>\n",
       "      <td>0.0</td>\n",
       "      <td>0.0</td>\n",
       "    </tr>\n",
       "    <tr>\n",
       "      <th>와르르...</th>\n",
       "      <td>1.0</td>\n",
       "      <td>0.0</td>\n",
       "      <td>0.0</td>\n",
       "      <td>0.0</td>\n",
       "      <td>0.0</td>\n",
       "      <td>0.0</td>\n",
       "      <td>0.0</td>\n",
       "    </tr>\n",
       "    <tr>\n",
       "      <th>작업자</th>\n",
       "      <td>3.0</td>\n",
       "      <td>0.0</td>\n",
       "      <td>0.0</td>\n",
       "      <td>0.0</td>\n",
       "      <td>0.0</td>\n",
       "      <td>0.0</td>\n",
       "      <td>0.0</td>\n",
       "    </tr>\n",
       "    <tr>\n",
       "      <th>...</th>\n",
       "      <td>...</td>\n",
       "      <td>...</td>\n",
       "      <td>...</td>\n",
       "      <td>...</td>\n",
       "      <td>...</td>\n",
       "      <td>...</td>\n",
       "      <td>...</td>\n",
       "    </tr>\n",
       "    <tr>\n",
       "      <th>바라보며</th>\n",
       "      <td>0.0</td>\n",
       "      <td>0.0</td>\n",
       "      <td>0.0</td>\n",
       "      <td>0.0</td>\n",
       "      <td>0.0</td>\n",
       "      <td>0.0</td>\n",
       "      <td>1.0</td>\n",
       "    </tr>\n",
       "    <tr>\n",
       "      <th>무엇이</th>\n",
       "      <td>0.0</td>\n",
       "      <td>0.0</td>\n",
       "      <td>0.0</td>\n",
       "      <td>0.0</td>\n",
       "      <td>0.0</td>\n",
       "      <td>0.0</td>\n",
       "      <td>2.0</td>\n",
       "    </tr>\n",
       "    <tr>\n",
       "      <th>변했고</th>\n",
       "      <td>0.0</td>\n",
       "      <td>0.0</td>\n",
       "      <td>0.0</td>\n",
       "      <td>0.0</td>\n",
       "      <td>0.0</td>\n",
       "      <td>0.0</td>\n",
       "      <td>1.0</td>\n",
       "    </tr>\n",
       "    <tr>\n",
       "      <th>그대로인지</th>\n",
       "      <td>0.0</td>\n",
       "      <td>0.0</td>\n",
       "      <td>0.0</td>\n",
       "      <td>0.0</td>\n",
       "      <td>0.0</td>\n",
       "      <td>0.0</td>\n",
       "      <td>1.0</td>\n",
       "    </tr>\n",
       "    <tr>\n",
       "      <th>알려준다.</th>\n",
       "      <td>0.0</td>\n",
       "      <td>0.0</td>\n",
       "      <td>0.0</td>\n",
       "      <td>0.0</td>\n",
       "      <td>0.0</td>\n",
       "      <td>0.0</td>\n",
       "      <td>1.0</td>\n",
       "    </tr>\n",
       "  </tbody>\n",
       "</table>\n",
       "<p>8517 rows × 7 columns</p>\n",
       "</div>\n",
       "    <div class=\"colab-df-buttons\">\n",
       "\n",
       "  <div class=\"colab-df-container\">\n",
       "    <button class=\"colab-df-convert\" onclick=\"convertToInteractive('df-06bb7f6e-8c10-4df3-9af8-47c86418ccbe')\"\n",
       "            title=\"Convert this dataframe to an interactive table.\"\n",
       "            style=\"display:none;\">\n",
       "\n",
       "  <svg xmlns=\"http://www.w3.org/2000/svg\" height=\"24px\" viewBox=\"0 -960 960 960\">\n",
       "    <path d=\"M120-120v-720h720v720H120Zm60-500h600v-160H180v160Zm220 220h160v-160H400v160Zm0 220h160v-160H400v160ZM180-400h160v-160H180v160Zm440 0h160v-160H620v160ZM180-180h160v-160H180v160Zm440 0h160v-160H620v160Z\"/>\n",
       "  </svg>\n",
       "    </button>\n",
       "\n",
       "  <style>\n",
       "    .colab-df-container {\n",
       "      display:flex;\n",
       "      gap: 12px;\n",
       "    }\n",
       "\n",
       "    .colab-df-convert {\n",
       "      background-color: #E8F0FE;\n",
       "      border: none;\n",
       "      border-radius: 50%;\n",
       "      cursor: pointer;\n",
       "      display: none;\n",
       "      fill: #1967D2;\n",
       "      height: 32px;\n",
       "      padding: 0 0 0 0;\n",
       "      width: 32px;\n",
       "    }\n",
       "\n",
       "    .colab-df-convert:hover {\n",
       "      background-color: #E2EBFA;\n",
       "      box-shadow: 0px 1px 2px rgba(60, 64, 67, 0.3), 0px 1px 3px 1px rgba(60, 64, 67, 0.15);\n",
       "      fill: #174EA6;\n",
       "    }\n",
       "\n",
       "    .colab-df-buttons div {\n",
       "      margin-bottom: 4px;\n",
       "    }\n",
       "\n",
       "    [theme=dark] .colab-df-convert {\n",
       "      background-color: #3B4455;\n",
       "      fill: #D2E3FC;\n",
       "    }\n",
       "\n",
       "    [theme=dark] .colab-df-convert:hover {\n",
       "      background-color: #434B5C;\n",
       "      box-shadow: 0px 1px 3px 1px rgba(0, 0, 0, 0.15);\n",
       "      filter: drop-shadow(0px 1px 2px rgba(0, 0, 0, 0.3));\n",
       "      fill: #FFFFFF;\n",
       "    }\n",
       "  </style>\n",
       "\n",
       "    <script>\n",
       "      const buttonEl =\n",
       "        document.querySelector('#df-06bb7f6e-8c10-4df3-9af8-47c86418ccbe button.colab-df-convert');\n",
       "      buttonEl.style.display =\n",
       "        google.colab.kernel.accessAllowed ? 'block' : 'none';\n",
       "\n",
       "      async function convertToInteractive(key) {\n",
       "        const element = document.querySelector('#df-06bb7f6e-8c10-4df3-9af8-47c86418ccbe');\n",
       "        const dataTable =\n",
       "          await google.colab.kernel.invokeFunction('convertToInteractive',\n",
       "                                                    [key], {});\n",
       "        if (!dataTable) return;\n",
       "\n",
       "        const docLinkHtml = 'Like what you see? Visit the ' +\n",
       "          '<a target=\"_blank\" href=https://colab.research.google.com/notebooks/data_table.ipynb>data table notebook</a>'\n",
       "          + ' to learn more about interactive tables.';\n",
       "        element.innerHTML = '';\n",
       "        dataTable['output_type'] = 'display_data';\n",
       "        await google.colab.output.renderOutput(dataTable, element);\n",
       "        const docLink = document.createElement('div');\n",
       "        docLink.innerHTML = docLinkHtml;\n",
       "        element.appendChild(docLink);\n",
       "      }\n",
       "    </script>\n",
       "  </div>\n",
       "\n",
       "\n",
       "<div id=\"df-8bb02fad-274c-40c2-85c0-2b00102ea8ae\">\n",
       "  <button class=\"colab-df-quickchart\" onclick=\"quickchart('df-8bb02fad-274c-40c2-85c0-2b00102ea8ae')\"\n",
       "            title=\"Suggest charts.\"\n",
       "            style=\"display:none;\">\n",
       "\n",
       "<svg xmlns=\"http://www.w3.org/2000/svg\" height=\"24px\"viewBox=\"0 0 24 24\"\n",
       "     width=\"24px\">\n",
       "    <g>\n",
       "        <path d=\"M19 3H5c-1.1 0-2 .9-2 2v14c0 1.1.9 2 2 2h14c1.1 0 2-.9 2-2V5c0-1.1-.9-2-2-2zM9 17H7v-7h2v7zm4 0h-2V7h2v10zm4 0h-2v-4h2v4z\"/>\n",
       "    </g>\n",
       "</svg>\n",
       "  </button>\n",
       "\n",
       "<style>\n",
       "  .colab-df-quickchart {\n",
       "    background-color: #E8F0FE;\n",
       "    border: none;\n",
       "    border-radius: 50%;\n",
       "    cursor: pointer;\n",
       "    display: none;\n",
       "    fill: #1967D2;\n",
       "    height: 32px;\n",
       "    padding: 0 0 0 0;\n",
       "    width: 32px;\n",
       "  }\n",
       "\n",
       "  .colab-df-quickchart:hover {\n",
       "    background-color: #E2EBFA;\n",
       "    box-shadow: 0px 1px 2px rgba(60, 64, 67, 0.3), 0px 1px 3px 1px rgba(60, 64, 67, 0.15);\n",
       "    fill: #174EA6;\n",
       "  }\n",
       "\n",
       "  [theme=dark] .colab-df-quickchart {\n",
       "    background-color: #3B4455;\n",
       "    fill: #D2E3FC;\n",
       "  }\n",
       "\n",
       "  [theme=dark] .colab-df-quickchart:hover {\n",
       "    background-color: #434B5C;\n",
       "    box-shadow: 0px 1px 3px 1px rgba(0, 0, 0, 0.15);\n",
       "    filter: drop-shadow(0px 1px 2px rgba(0, 0, 0, 0.3));\n",
       "    fill: #FFFFFF;\n",
       "  }\n",
       "</style>\n",
       "\n",
       "  <script>\n",
       "    async function quickchart(key) {\n",
       "      const charts = await google.colab.kernel.invokeFunction(\n",
       "          'suggestCharts', [key], {});\n",
       "    }\n",
       "    (() => {\n",
       "      let quickchartButtonEl =\n",
       "        document.querySelector('#df-8bb02fad-274c-40c2-85c0-2b00102ea8ae button');\n",
       "      quickchartButtonEl.style.display =\n",
       "        google.colab.kernel.accessAllowed ? 'block' : 'none';\n",
       "    })();\n",
       "  </script>\n",
       "</div>\n",
       "    </div>\n",
       "  </div>\n"
      ],
      "text/plain": [
       "        20230815  20230816  20230817  20230818  20230819  20230820  20230821\n",
       "경주           9.0       0.0       0.0       0.0       0.0       0.0       0.0\n",
       "건설           4.0      12.0       1.0       2.0       0.0       3.0       4.0\n",
       "구조물          1.0       0.0       0.0       0.0       0.0       0.0       0.0\n",
       "와르르...       1.0       0.0       0.0       0.0       0.0       0.0       0.0\n",
       "작업자          3.0       0.0       0.0       0.0       0.0       0.0       0.0\n",
       "...          ...       ...       ...       ...       ...       ...       ...\n",
       "바라보며         0.0       0.0       0.0       0.0       0.0       0.0       1.0\n",
       "무엇이          0.0       0.0       0.0       0.0       0.0       0.0       2.0\n",
       "변했고          0.0       0.0       0.0       0.0       0.0       0.0       1.0\n",
       "그대로인지        0.0       0.0       0.0       0.0       0.0       0.0       1.0\n",
       "알려준다.        0.0       0.0       0.0       0.0       0.0       0.0       1.0\n",
       "\n",
       "[8517 rows x 7 columns]"
      ]
     },
     "execution_count": 34,
     "metadata": {},
     "output_type": "execute_result"
    }
   ],
   "source": [
    "day_freq_df.drop('아파트')"
   ]
  },
  {
   "cell_type": "code",
   "execution_count": null,
   "id": "49d3227f-712c-4c8a-bd4f-690dfe0d83be",
   "metadata": {
    "colab": {
     "base_uri": "https://localhost:8080/",
     "height": 206
    },
    "id": "49d3227f-712c-4c8a-bd4f-690dfe0d83be",
    "outputId": "ac7a66f6-ae05-48d4-af01-a33f0d651425"
   },
   "outputs": [
    {
     "data": {
      "text/html": [
       "\n",
       "  <div id=\"df-9736f7c2-4e65-4c93-947d-4583c6bdd818\" class=\"colab-df-container\">\n",
       "    <div>\n",
       "<style scoped>\n",
       "    .dataframe tbody tr th:only-of-type {\n",
       "        vertical-align: middle;\n",
       "    }\n",
       "\n",
       "    .dataframe tbody tr th {\n",
       "        vertical-align: top;\n",
       "    }\n",
       "\n",
       "    .dataframe thead th {\n",
       "        text-align: right;\n",
       "    }\n",
       "</style>\n",
       "<table border=\"1\" class=\"dataframe\">\n",
       "  <thead>\n",
       "    <tr style=\"text-align: right;\">\n",
       "      <th></th>\n",
       "      <th>20230815</th>\n",
       "      <th>20230816</th>\n",
       "      <th>20230817</th>\n",
       "      <th>20230818</th>\n",
       "      <th>20230819</th>\n",
       "      <th>20230820</th>\n",
       "      <th>20230821</th>\n",
       "    </tr>\n",
       "  </thead>\n",
       "  <tbody>\n",
       "    <tr>\n",
       "      <th>경주</th>\n",
       "      <td>9.0</td>\n",
       "      <td>0.0</td>\n",
       "      <td>0.0</td>\n",
       "      <td>0.0</td>\n",
       "      <td>0.0</td>\n",
       "      <td>0.0</td>\n",
       "      <td>0.0</td>\n",
       "    </tr>\n",
       "    <tr>\n",
       "      <th>건설</th>\n",
       "      <td>4.0</td>\n",
       "      <td>12.0</td>\n",
       "      <td>1.0</td>\n",
       "      <td>2.0</td>\n",
       "      <td>0.0</td>\n",
       "      <td>3.0</td>\n",
       "      <td>4.0</td>\n",
       "    </tr>\n",
       "    <tr>\n",
       "      <th>구조물</th>\n",
       "      <td>1.0</td>\n",
       "      <td>0.0</td>\n",
       "      <td>0.0</td>\n",
       "      <td>0.0</td>\n",
       "      <td>0.0</td>\n",
       "      <td>0.0</td>\n",
       "      <td>0.0</td>\n",
       "    </tr>\n",
       "    <tr>\n",
       "      <th>와르르...</th>\n",
       "      <td>1.0</td>\n",
       "      <td>0.0</td>\n",
       "      <td>0.0</td>\n",
       "      <td>0.0</td>\n",
       "      <td>0.0</td>\n",
       "      <td>0.0</td>\n",
       "      <td>0.0</td>\n",
       "    </tr>\n",
       "    <tr>\n",
       "      <th>작업자</th>\n",
       "      <td>3.0</td>\n",
       "      <td>0.0</td>\n",
       "      <td>0.0</td>\n",
       "      <td>0.0</td>\n",
       "      <td>0.0</td>\n",
       "      <td>0.0</td>\n",
       "      <td>0.0</td>\n",
       "    </tr>\n",
       "  </tbody>\n",
       "</table>\n",
       "</div>\n",
       "    <div class=\"colab-df-buttons\">\n",
       "\n",
       "  <div class=\"colab-df-container\">\n",
       "    <button class=\"colab-df-convert\" onclick=\"convertToInteractive('df-9736f7c2-4e65-4c93-947d-4583c6bdd818')\"\n",
       "            title=\"Convert this dataframe to an interactive table.\"\n",
       "            style=\"display:none;\">\n",
       "\n",
       "  <svg xmlns=\"http://www.w3.org/2000/svg\" height=\"24px\" viewBox=\"0 -960 960 960\">\n",
       "    <path d=\"M120-120v-720h720v720H120Zm60-500h600v-160H180v160Zm220 220h160v-160H400v160Zm0 220h160v-160H400v160ZM180-400h160v-160H180v160Zm440 0h160v-160H620v160ZM180-180h160v-160H180v160Zm440 0h160v-160H620v160Z\"/>\n",
       "  </svg>\n",
       "    </button>\n",
       "\n",
       "  <style>\n",
       "    .colab-df-container {\n",
       "      display:flex;\n",
       "      gap: 12px;\n",
       "    }\n",
       "\n",
       "    .colab-df-convert {\n",
       "      background-color: #E8F0FE;\n",
       "      border: none;\n",
       "      border-radius: 50%;\n",
       "      cursor: pointer;\n",
       "      display: none;\n",
       "      fill: #1967D2;\n",
       "      height: 32px;\n",
       "      padding: 0 0 0 0;\n",
       "      width: 32px;\n",
       "    }\n",
       "\n",
       "    .colab-df-convert:hover {\n",
       "      background-color: #E2EBFA;\n",
       "      box-shadow: 0px 1px 2px rgba(60, 64, 67, 0.3), 0px 1px 3px 1px rgba(60, 64, 67, 0.15);\n",
       "      fill: #174EA6;\n",
       "    }\n",
       "\n",
       "    .colab-df-buttons div {\n",
       "      margin-bottom: 4px;\n",
       "    }\n",
       "\n",
       "    [theme=dark] .colab-df-convert {\n",
       "      background-color: #3B4455;\n",
       "      fill: #D2E3FC;\n",
       "    }\n",
       "\n",
       "    [theme=dark] .colab-df-convert:hover {\n",
       "      background-color: #434B5C;\n",
       "      box-shadow: 0px 1px 3px 1px rgba(0, 0, 0, 0.15);\n",
       "      filter: drop-shadow(0px 1px 2px rgba(0, 0, 0, 0.3));\n",
       "      fill: #FFFFFF;\n",
       "    }\n",
       "  </style>\n",
       "\n",
       "    <script>\n",
       "      const buttonEl =\n",
       "        document.querySelector('#df-9736f7c2-4e65-4c93-947d-4583c6bdd818 button.colab-df-convert');\n",
       "      buttonEl.style.display =\n",
       "        google.colab.kernel.accessAllowed ? 'block' : 'none';\n",
       "\n",
       "      async function convertToInteractive(key) {\n",
       "        const element = document.querySelector('#df-9736f7c2-4e65-4c93-947d-4583c6bdd818');\n",
       "        const dataTable =\n",
       "          await google.colab.kernel.invokeFunction('convertToInteractive',\n",
       "                                                    [key], {});\n",
       "        if (!dataTable) return;\n",
       "\n",
       "        const docLinkHtml = 'Like what you see? Visit the ' +\n",
       "          '<a target=\"_blank\" href=https://colab.research.google.com/notebooks/data_table.ipynb>data table notebook</a>'\n",
       "          + ' to learn more about interactive tables.';\n",
       "        element.innerHTML = '';\n",
       "        dataTable['output_type'] = 'display_data';\n",
       "        await google.colab.output.renderOutput(dataTable, element);\n",
       "        const docLink = document.createElement('div');\n",
       "        docLink.innerHTML = docLinkHtml;\n",
       "        element.appendChild(docLink);\n",
       "      }\n",
       "    </script>\n",
       "  </div>\n",
       "\n",
       "\n",
       "<div id=\"df-7d1908e0-1975-4f70-a1c3-ddd59966f9e8\">\n",
       "  <button class=\"colab-df-quickchart\" onclick=\"quickchart('df-7d1908e0-1975-4f70-a1c3-ddd59966f9e8')\"\n",
       "            title=\"Suggest charts.\"\n",
       "            style=\"display:none;\">\n",
       "\n",
       "<svg xmlns=\"http://www.w3.org/2000/svg\" height=\"24px\"viewBox=\"0 0 24 24\"\n",
       "     width=\"24px\">\n",
       "    <g>\n",
       "        <path d=\"M19 3H5c-1.1 0-2 .9-2 2v14c0 1.1.9 2 2 2h14c1.1 0 2-.9 2-2V5c0-1.1-.9-2-2-2zM9 17H7v-7h2v7zm4 0h-2V7h2v10zm4 0h-2v-4h2v4z\"/>\n",
       "    </g>\n",
       "</svg>\n",
       "  </button>\n",
       "\n",
       "<style>\n",
       "  .colab-df-quickchart {\n",
       "    background-color: #E8F0FE;\n",
       "    border: none;\n",
       "    border-radius: 50%;\n",
       "    cursor: pointer;\n",
       "    display: none;\n",
       "    fill: #1967D2;\n",
       "    height: 32px;\n",
       "    padding: 0 0 0 0;\n",
       "    width: 32px;\n",
       "  }\n",
       "\n",
       "  .colab-df-quickchart:hover {\n",
       "    background-color: #E2EBFA;\n",
       "    box-shadow: 0px 1px 2px rgba(60, 64, 67, 0.3), 0px 1px 3px 1px rgba(60, 64, 67, 0.15);\n",
       "    fill: #174EA6;\n",
       "  }\n",
       "\n",
       "  [theme=dark] .colab-df-quickchart {\n",
       "    background-color: #3B4455;\n",
       "    fill: #D2E3FC;\n",
       "  }\n",
       "\n",
       "  [theme=dark] .colab-df-quickchart:hover {\n",
       "    background-color: #434B5C;\n",
       "    box-shadow: 0px 1px 3px 1px rgba(0, 0, 0, 0.15);\n",
       "    filter: drop-shadow(0px 1px 2px rgba(0, 0, 0, 0.3));\n",
       "    fill: #FFFFFF;\n",
       "  }\n",
       "</style>\n",
       "\n",
       "  <script>\n",
       "    async function quickchart(key) {\n",
       "      const charts = await google.colab.kernel.invokeFunction(\n",
       "          'suggestCharts', [key], {});\n",
       "    }\n",
       "    (() => {\n",
       "      let quickchartButtonEl =\n",
       "        document.querySelector('#df-7d1908e0-1975-4f70-a1c3-ddd59966f9e8 button');\n",
       "      quickchartButtonEl.style.display =\n",
       "        google.colab.kernel.accessAllowed ? 'block' : 'none';\n",
       "    })();\n",
       "  </script>\n",
       "</div>\n",
       "    </div>\n",
       "  </div>\n"
      ],
      "text/plain": [
       "        20230815  20230816  20230817  20230818  20230819  20230820  20230821\n",
       "경주           9.0       0.0       0.0       0.0       0.0       0.0       0.0\n",
       "건설           4.0      12.0       1.0       2.0       0.0       3.0       4.0\n",
       "구조물          1.0       0.0       0.0       0.0       0.0       0.0       0.0\n",
       "와르르...       1.0       0.0       0.0       0.0       0.0       0.0       0.0\n",
       "작업자          3.0       0.0       0.0       0.0       0.0       0.0       0.0"
      ]
     },
     "execution_count": 37,
     "metadata": {},
     "output_type": "execute_result"
    }
   ],
   "source": [
    "day_freq_df = pd.DataFrame(day_freq_result)\n",
    "# 결측치 0으로 처리\n",
    "day_freq_df[np.isnan(day_freq_df)] = 0\n",
    "#day_freq_df = day_freq_df.reset_index()\n",
    "day_freq_df = day_freq_df.drop('아파트')\n",
    "\n",
    "day_freq_df.head()"
   ]
  },
  {
   "cell_type": "code",
   "execution_count": null,
   "id": "bGdKMJT80r30",
   "metadata": {
    "id": "bGdKMJT80r30"
   },
   "outputs": [],
   "source": [
    "#언급이 많이 된 상위 10개의 단어를\n",
    "#indexs 에 저장\n",
    "\n",
    "\n",
    "\n",
    "# idx1 = day_freq_df['20230815'].sort_values(ascending=False)[0:10].index\n",
    "# idx2 = day_freq_df['20230816'].sort_values(ascending=False)[0:10].index\n",
    "# idx3 = day_freq_df['20230817'].sort_values(ascending=False)[0:10].index\n",
    "# idx4 = day_freq_df['20230818'].sort_values(ascending=False)[0:10].index\n",
    "# idx5 = day_freq_df['20230819'].sort_values(ascending=False)[0:10].index\n",
    "# idx6 = day_freq_df['20230820'].sort_values(ascending=False)[0:10].index\n",
    "# idx7 = day_freq_df['20230821'].sort_values(ascending=False)[0:10].index\n",
    "\n",
    "idx1 = day_freq_df['20230815'].sort_values(ascending=False)[0:8].index\n",
    "idx2 = day_freq_df['20230816'].sort_values(ascending=False)[0:8].index\n",
    "idx3 = day_freq_df['20230817'].sort_values(ascending=False)[0:8].index\n",
    "idx4 = day_freq_df['20230818'].sort_values(ascending=False)[0:8].index\n",
    "idx5 = day_freq_df['20230819'].sort_values(ascending=False)[0:8].index\n",
    "idx6 = day_freq_df['20230820'].sort_values(ascending=False)[0:8].index\n",
    "idx7 = day_freq_df['20230821'].sort_values(ascending=False)[0:8].index\n",
    "\n",
    "\n",
    "idx1 = list(idx1)\n",
    "idx2 = list(idx2)\n",
    "idx3 = list(idx3)\n",
    "idx4 = list(idx4)\n",
    "idx5 = list(idx5)\n",
    "idx6 = list(idx6)\n",
    "idx7 = list(idx7)\n",
    "\n",
    "\n",
    "indexList = idx1 + idx2 + idx3 + idx4 + idx5 + idx6 + idx7\n",
    "indexs = set(indexList)\n",
    "#indexs"
   ]
  },
  {
   "cell_type": "code",
   "execution_count": null,
   "id": "7xbibIbE8SUy",
   "metadata": {
    "colab": {
     "base_uri": "https://localhost:8080/",
     "height": 242
    },
    "id": "7xbibIbE8SUy",
    "outputId": "e5bef930-7e0f-47de-c567-af5627a746ee"
   },
   "outputs": [
    {
     "name": "stderr",
     "output_type": "stream",
     "text": [
      "<ipython-input-136-faff740af9f7>:1: FutureWarning: Passing a set as an indexer is deprecated and will raise in a future version. Use a list instead.\n",
      "  often_df = day_freq_df.loc[indexs]\n"
     ]
    },
    {
     "data": {
      "text/html": [
       "\n",
       "  <div id=\"df-398c3e5f-d896-42ef-9bec-7b8ee1a39f18\" class=\"colab-df-container\">\n",
       "    <div>\n",
       "<style scoped>\n",
       "    .dataframe tbody tr th:only-of-type {\n",
       "        vertical-align: middle;\n",
       "    }\n",
       "\n",
       "    .dataframe tbody tr th {\n",
       "        vertical-align: top;\n",
       "    }\n",
       "\n",
       "    .dataframe thead th {\n",
       "        text-align: right;\n",
       "    }\n",
       "</style>\n",
       "<table border=\"1\" class=\"dataframe\">\n",
       "  <thead>\n",
       "    <tr style=\"text-align: right;\">\n",
       "      <th></th>\n",
       "      <th>20230815</th>\n",
       "      <th>20230816</th>\n",
       "      <th>20230817</th>\n",
       "      <th>20230818</th>\n",
       "      <th>20230819</th>\n",
       "      <th>20230820</th>\n",
       "      <th>20230821</th>\n",
       "    </tr>\n",
       "  </thead>\n",
       "  <tbody>\n",
       "    <tr>\n",
       "      <th>평균</th>\n",
       "      <td>3.0</td>\n",
       "      <td>45.0</td>\n",
       "      <td>5.0</td>\n",
       "      <td>1.0</td>\n",
       "      <td>1.0</td>\n",
       "      <td>3.0</td>\n",
       "      <td>1.0</td>\n",
       "    </tr>\n",
       "    <tr>\n",
       "      <th>부동산</th>\n",
       "      <td>1.0</td>\n",
       "      <td>18.0</td>\n",
       "      <td>44.0</td>\n",
       "      <td>11.0</td>\n",
       "      <td>3.0</td>\n",
       "      <td>3.0</td>\n",
       "      <td>17.0</td>\n",
       "    </tr>\n",
       "    <tr>\n",
       "      <th>한국부동산원</th>\n",
       "      <td>1.0</td>\n",
       "      <td>2.0</td>\n",
       "      <td>34.0</td>\n",
       "      <td>5.0</td>\n",
       "      <td>3.0</td>\n",
       "      <td>1.0</td>\n",
       "      <td>2.0</td>\n",
       "    </tr>\n",
       "    <tr>\n",
       "      <th>부모</th>\n",
       "      <td>0.0</td>\n",
       "      <td>0.0</td>\n",
       "      <td>6.0</td>\n",
       "      <td>8.0</td>\n",
       "      <td>7.0</td>\n",
       "      <td>0.0</td>\n",
       "      <td>0.0</td>\n",
       "    </tr>\n",
       "    <tr>\n",
       "      <th>서울</th>\n",
       "      <td>20.0</td>\n",
       "      <td>72.0</td>\n",
       "      <td>137.0</td>\n",
       "      <td>33.0</td>\n",
       "      <td>8.0</td>\n",
       "      <td>19.0</td>\n",
       "      <td>73.0</td>\n",
       "    </tr>\n",
       "  </tbody>\n",
       "</table>\n",
       "</div>\n",
       "    <div class=\"colab-df-buttons\">\n",
       "\n",
       "  <div class=\"colab-df-container\">\n",
       "    <button class=\"colab-df-convert\" onclick=\"convertToInteractive('df-398c3e5f-d896-42ef-9bec-7b8ee1a39f18')\"\n",
       "            title=\"Convert this dataframe to an interactive table.\"\n",
       "            style=\"display:none;\">\n",
       "\n",
       "  <svg xmlns=\"http://www.w3.org/2000/svg\" height=\"24px\" viewBox=\"0 -960 960 960\">\n",
       "    <path d=\"M120-120v-720h720v720H120Zm60-500h600v-160H180v160Zm220 220h160v-160H400v160Zm0 220h160v-160H400v160ZM180-400h160v-160H180v160Zm440 0h160v-160H620v160ZM180-180h160v-160H180v160Zm440 0h160v-160H620v160Z\"/>\n",
       "  </svg>\n",
       "    </button>\n",
       "\n",
       "  <style>\n",
       "    .colab-df-container {\n",
       "      display:flex;\n",
       "      gap: 12px;\n",
       "    }\n",
       "\n",
       "    .colab-df-convert {\n",
       "      background-color: #E8F0FE;\n",
       "      border: none;\n",
       "      border-radius: 50%;\n",
       "      cursor: pointer;\n",
       "      display: none;\n",
       "      fill: #1967D2;\n",
       "      height: 32px;\n",
       "      padding: 0 0 0 0;\n",
       "      width: 32px;\n",
       "    }\n",
       "\n",
       "    .colab-df-convert:hover {\n",
       "      background-color: #E2EBFA;\n",
       "      box-shadow: 0px 1px 2px rgba(60, 64, 67, 0.3), 0px 1px 3px 1px rgba(60, 64, 67, 0.15);\n",
       "      fill: #174EA6;\n",
       "    }\n",
       "\n",
       "    .colab-df-buttons div {\n",
       "      margin-bottom: 4px;\n",
       "    }\n",
       "\n",
       "    [theme=dark] .colab-df-convert {\n",
       "      background-color: #3B4455;\n",
       "      fill: #D2E3FC;\n",
       "    }\n",
       "\n",
       "    [theme=dark] .colab-df-convert:hover {\n",
       "      background-color: #434B5C;\n",
       "      box-shadow: 0px 1px 3px 1px rgba(0, 0, 0, 0.15);\n",
       "      filter: drop-shadow(0px 1px 2px rgba(0, 0, 0, 0.3));\n",
       "      fill: #FFFFFF;\n",
       "    }\n",
       "  </style>\n",
       "\n",
       "    <script>\n",
       "      const buttonEl =\n",
       "        document.querySelector('#df-398c3e5f-d896-42ef-9bec-7b8ee1a39f18 button.colab-df-convert');\n",
       "      buttonEl.style.display =\n",
       "        google.colab.kernel.accessAllowed ? 'block' : 'none';\n",
       "\n",
       "      async function convertToInteractive(key) {\n",
       "        const element = document.querySelector('#df-398c3e5f-d896-42ef-9bec-7b8ee1a39f18');\n",
       "        const dataTable =\n",
       "          await google.colab.kernel.invokeFunction('convertToInteractive',\n",
       "                                                    [key], {});\n",
       "        if (!dataTable) return;\n",
       "\n",
       "        const docLinkHtml = 'Like what you see? Visit the ' +\n",
       "          '<a target=\"_blank\" href=https://colab.research.google.com/notebooks/data_table.ipynb>data table notebook</a>'\n",
       "          + ' to learn more about interactive tables.';\n",
       "        element.innerHTML = '';\n",
       "        dataTable['output_type'] = 'display_data';\n",
       "        await google.colab.output.renderOutput(dataTable, element);\n",
       "        const docLink = document.createElement('div');\n",
       "        docLink.innerHTML = docLinkHtml;\n",
       "        element.appendChild(docLink);\n",
       "      }\n",
       "    </script>\n",
       "  </div>\n",
       "\n",
       "\n",
       "<div id=\"df-ea2c888e-8ca9-461a-b4b3-ce1637133634\">\n",
       "  <button class=\"colab-df-quickchart\" onclick=\"quickchart('df-ea2c888e-8ca9-461a-b4b3-ce1637133634')\"\n",
       "            title=\"Suggest charts.\"\n",
       "            style=\"display:none;\">\n",
       "\n",
       "<svg xmlns=\"http://www.w3.org/2000/svg\" height=\"24px\"viewBox=\"0 0 24 24\"\n",
       "     width=\"24px\">\n",
       "    <g>\n",
       "        <path d=\"M19 3H5c-1.1 0-2 .9-2 2v14c0 1.1.9 2 2 2h14c1.1 0 2-.9 2-2V5c0-1.1-.9-2-2-2zM9 17H7v-7h2v7zm4 0h-2V7h2v10zm4 0h-2v-4h2v4z\"/>\n",
       "    </g>\n",
       "</svg>\n",
       "  </button>\n",
       "\n",
       "<style>\n",
       "  .colab-df-quickchart {\n",
       "    background-color: #E8F0FE;\n",
       "    border: none;\n",
       "    border-radius: 50%;\n",
       "    cursor: pointer;\n",
       "    display: none;\n",
       "    fill: #1967D2;\n",
       "    height: 32px;\n",
       "    padding: 0 0 0 0;\n",
       "    width: 32px;\n",
       "  }\n",
       "\n",
       "  .colab-df-quickchart:hover {\n",
       "    background-color: #E2EBFA;\n",
       "    box-shadow: 0px 1px 2px rgba(60, 64, 67, 0.3), 0px 1px 3px 1px rgba(60, 64, 67, 0.15);\n",
       "    fill: #174EA6;\n",
       "  }\n",
       "\n",
       "  [theme=dark] .colab-df-quickchart {\n",
       "    background-color: #3B4455;\n",
       "    fill: #D2E3FC;\n",
       "  }\n",
       "\n",
       "  [theme=dark] .colab-df-quickchart:hover {\n",
       "    background-color: #434B5C;\n",
       "    box-shadow: 0px 1px 3px 1px rgba(0, 0, 0, 0.15);\n",
       "    filter: drop-shadow(0px 1px 2px rgba(0, 0, 0, 0.3));\n",
       "    fill: #FFFFFF;\n",
       "  }\n",
       "</style>\n",
       "\n",
       "  <script>\n",
       "    async function quickchart(key) {\n",
       "      const charts = await google.colab.kernel.invokeFunction(\n",
       "          'suggestCharts', [key], {});\n",
       "    }\n",
       "    (() => {\n",
       "      let quickchartButtonEl =\n",
       "        document.querySelector('#df-ea2c888e-8ca9-461a-b4b3-ce1637133634 button');\n",
       "      quickchartButtonEl.style.display =\n",
       "        google.colab.kernel.accessAllowed ? 'block' : 'none';\n",
       "    })();\n",
       "  </script>\n",
       "</div>\n",
       "    </div>\n",
       "  </div>\n"
      ],
      "text/plain": [
       "        20230815  20230816  20230817  20230818  20230819  20230820  20230821\n",
       "평균           3.0      45.0       5.0       1.0       1.0       3.0       1.0\n",
       "부동산          1.0      18.0      44.0      11.0       3.0       3.0      17.0\n",
       "한국부동산원       1.0       2.0      34.0       5.0       3.0       1.0       2.0\n",
       "부모           0.0       0.0       6.0       8.0       7.0       0.0       0.0\n",
       "서울          20.0      72.0     137.0      33.0       8.0      19.0      73.0"
      ]
     },
     "execution_count": 136,
     "metadata": {},
     "output_type": "execute_result"
    }
   ],
   "source": [
    "often_df = day_freq_df.loc[indexs]\n",
    "often_df.head()"
   ]
  },
  {
   "cell_type": "code",
   "execution_count": null,
   "id": "nMYXyPEc93wN",
   "metadata": {
    "id": "nMYXyPEc93wN"
   },
   "outputs": [],
   "source": [
    "often_df = often_df.reset_index()"
   ]
  },
  {
   "cell_type": "code",
   "execution_count": null,
   "id": "klWrEGWvEJzj",
   "metadata": {
    "id": "klWrEGWvEJzj"
   },
   "outputs": [],
   "source": [
    "#df 만들기\n",
    "def make_df(idx):\n",
    "    df = \"\"\n",
    "    df = day_freq_df.loc[idx]\n",
    "    df = df.reset_index()\n",
    "    df = pd.melt(df, id_vars=['index'], value_vars=often_df.columns[1:])\n",
    "\n",
    "    return df"
   ]
  },
  {
   "cell_type": "code",
   "execution_count": null,
   "id": "EMvNEPyTIC0l",
   "metadata": {
    "colab": {
     "base_uri": "https://localhost:8080/",
     "height": 300
    },
    "id": "EMvNEPyTIC0l",
    "outputId": "7325fc47-d5f2-42cf-d549-cb98460b0240"
   },
   "outputs": [
    {
     "data": {
      "text/html": [
       "\n",
       "  <div id=\"df-8c438a2e-f481-40ea-9c33-6a07e75b1b50\" class=\"colab-df-container\">\n",
       "    <div>\n",
       "<style scoped>\n",
       "    .dataframe tbody tr th:only-of-type {\n",
       "        vertical-align: middle;\n",
       "    }\n",
       "\n",
       "    .dataframe tbody tr th {\n",
       "        vertical-align: top;\n",
       "    }\n",
       "\n",
       "    .dataframe thead th {\n",
       "        text-align: right;\n",
       "    }\n",
       "</style>\n",
       "<table border=\"1\" class=\"dataframe\">\n",
       "  <thead>\n",
       "    <tr style=\"text-align: right;\">\n",
       "      <th></th>\n",
       "      <th>index</th>\n",
       "      <th>variable</th>\n",
       "      <th>value</th>\n",
       "    </tr>\n",
       "  </thead>\n",
       "  <tbody>\n",
       "    <tr>\n",
       "      <th>0</th>\n",
       "      <td>경기도</td>\n",
       "      <td>20230815</td>\n",
       "      <td>28.0</td>\n",
       "    </tr>\n",
       "    <tr>\n",
       "      <th>1</th>\n",
       "      <td>서울</td>\n",
       "      <td>20230815</td>\n",
       "      <td>20.0</td>\n",
       "    </tr>\n",
       "    <tr>\n",
       "      <th>2</th>\n",
       "      <td>경비노동자</td>\n",
       "      <td>20230815</td>\n",
       "      <td>13.0</td>\n",
       "    </tr>\n",
       "    <tr>\n",
       "      <th>3</th>\n",
       "      <td>태극기</td>\n",
       "      <td>20230815</td>\n",
       "      <td>12.0</td>\n",
       "    </tr>\n",
       "    <tr>\n",
       "      <th>4</th>\n",
       "      <td>노동자</td>\n",
       "      <td>20230815</td>\n",
       "      <td>12.0</td>\n",
       "    </tr>\n",
       "    <tr>\n",
       "      <th>5</th>\n",
       "      <td>근로계약</td>\n",
       "      <td>20230815</td>\n",
       "      <td>9.0</td>\n",
       "    </tr>\n",
       "    <tr>\n",
       "      <th>6</th>\n",
       "      <td>수원</td>\n",
       "      <td>20230815</td>\n",
       "      <td>9.0</td>\n",
       "    </tr>\n",
       "    <tr>\n",
       "      <th>7</th>\n",
       "      <td>인권</td>\n",
       "      <td>20230815</td>\n",
       "      <td>9.0</td>\n",
       "    </tr>\n",
       "  </tbody>\n",
       "</table>\n",
       "</div>\n",
       "    <div class=\"colab-df-buttons\">\n",
       "\n",
       "  <div class=\"colab-df-container\">\n",
       "    <button class=\"colab-df-convert\" onclick=\"convertToInteractive('df-8c438a2e-f481-40ea-9c33-6a07e75b1b50')\"\n",
       "            title=\"Convert this dataframe to an interactive table.\"\n",
       "            style=\"display:none;\">\n",
       "\n",
       "  <svg xmlns=\"http://www.w3.org/2000/svg\" height=\"24px\" viewBox=\"0 -960 960 960\">\n",
       "    <path d=\"M120-120v-720h720v720H120Zm60-500h600v-160H180v160Zm220 220h160v-160H400v160Zm0 220h160v-160H400v160ZM180-400h160v-160H180v160Zm440 0h160v-160H620v160ZM180-180h160v-160H180v160Zm440 0h160v-160H620v160Z\"/>\n",
       "  </svg>\n",
       "    </button>\n",
       "\n",
       "  <style>\n",
       "    .colab-df-container {\n",
       "      display:flex;\n",
       "      gap: 12px;\n",
       "    }\n",
       "\n",
       "    .colab-df-convert {\n",
       "      background-color: #E8F0FE;\n",
       "      border: none;\n",
       "      border-radius: 50%;\n",
       "      cursor: pointer;\n",
       "      display: none;\n",
       "      fill: #1967D2;\n",
       "      height: 32px;\n",
       "      padding: 0 0 0 0;\n",
       "      width: 32px;\n",
       "    }\n",
       "\n",
       "    .colab-df-convert:hover {\n",
       "      background-color: #E2EBFA;\n",
       "      box-shadow: 0px 1px 2px rgba(60, 64, 67, 0.3), 0px 1px 3px 1px rgba(60, 64, 67, 0.15);\n",
       "      fill: #174EA6;\n",
       "    }\n",
       "\n",
       "    .colab-df-buttons div {\n",
       "      margin-bottom: 4px;\n",
       "    }\n",
       "\n",
       "    [theme=dark] .colab-df-convert {\n",
       "      background-color: #3B4455;\n",
       "      fill: #D2E3FC;\n",
       "    }\n",
       "\n",
       "    [theme=dark] .colab-df-convert:hover {\n",
       "      background-color: #434B5C;\n",
       "      box-shadow: 0px 1px 3px 1px rgba(0, 0, 0, 0.15);\n",
       "      filter: drop-shadow(0px 1px 2px rgba(0, 0, 0, 0.3));\n",
       "      fill: #FFFFFF;\n",
       "    }\n",
       "  </style>\n",
       "\n",
       "    <script>\n",
       "      const buttonEl =\n",
       "        document.querySelector('#df-8c438a2e-f481-40ea-9c33-6a07e75b1b50 button.colab-df-convert');\n",
       "      buttonEl.style.display =\n",
       "        google.colab.kernel.accessAllowed ? 'block' : 'none';\n",
       "\n",
       "      async function convertToInteractive(key) {\n",
       "        const element = document.querySelector('#df-8c438a2e-f481-40ea-9c33-6a07e75b1b50');\n",
       "        const dataTable =\n",
       "          await google.colab.kernel.invokeFunction('convertToInteractive',\n",
       "                                                    [key], {});\n",
       "        if (!dataTable) return;\n",
       "\n",
       "        const docLinkHtml = 'Like what you see? Visit the ' +\n",
       "          '<a target=\"_blank\" href=https://colab.research.google.com/notebooks/data_table.ipynb>data table notebook</a>'\n",
       "          + ' to learn more about interactive tables.';\n",
       "        element.innerHTML = '';\n",
       "        dataTable['output_type'] = 'display_data';\n",
       "        await google.colab.output.renderOutput(dataTable, element);\n",
       "        const docLink = document.createElement('div');\n",
       "        docLink.innerHTML = docLinkHtml;\n",
       "        element.appendChild(docLink);\n",
       "      }\n",
       "    </script>\n",
       "  </div>\n",
       "\n",
       "\n",
       "<div id=\"df-6a829e78-a391-4c64-bf02-f0d204d8bf30\">\n",
       "  <button class=\"colab-df-quickchart\" onclick=\"quickchart('df-6a829e78-a391-4c64-bf02-f0d204d8bf30')\"\n",
       "            title=\"Suggest charts.\"\n",
       "            style=\"display:none;\">\n",
       "\n",
       "<svg xmlns=\"http://www.w3.org/2000/svg\" height=\"24px\"viewBox=\"0 0 24 24\"\n",
       "     width=\"24px\">\n",
       "    <g>\n",
       "        <path d=\"M19 3H5c-1.1 0-2 .9-2 2v14c0 1.1.9 2 2 2h14c1.1 0 2-.9 2-2V5c0-1.1-.9-2-2-2zM9 17H7v-7h2v7zm4 0h-2V7h2v10zm4 0h-2v-4h2v4z\"/>\n",
       "    </g>\n",
       "</svg>\n",
       "  </button>\n",
       "\n",
       "<style>\n",
       "  .colab-df-quickchart {\n",
       "    background-color: #E8F0FE;\n",
       "    border: none;\n",
       "    border-radius: 50%;\n",
       "    cursor: pointer;\n",
       "    display: none;\n",
       "    fill: #1967D2;\n",
       "    height: 32px;\n",
       "    padding: 0 0 0 0;\n",
       "    width: 32px;\n",
       "  }\n",
       "\n",
       "  .colab-df-quickchart:hover {\n",
       "    background-color: #E2EBFA;\n",
       "    box-shadow: 0px 1px 2px rgba(60, 64, 67, 0.3), 0px 1px 3px 1px rgba(60, 64, 67, 0.15);\n",
       "    fill: #174EA6;\n",
       "  }\n",
       "\n",
       "  [theme=dark] .colab-df-quickchart {\n",
       "    background-color: #3B4455;\n",
       "    fill: #D2E3FC;\n",
       "  }\n",
       "\n",
       "  [theme=dark] .colab-df-quickchart:hover {\n",
       "    background-color: #434B5C;\n",
       "    box-shadow: 0px 1px 3px 1px rgba(0, 0, 0, 0.15);\n",
       "    filter: drop-shadow(0px 1px 2px rgba(0, 0, 0, 0.3));\n",
       "    fill: #FFFFFF;\n",
       "  }\n",
       "</style>\n",
       "\n",
       "  <script>\n",
       "    async function quickchart(key) {\n",
       "      const charts = await google.colab.kernel.invokeFunction(\n",
       "          'suggestCharts', [key], {});\n",
       "    }\n",
       "    (() => {\n",
       "      let quickchartButtonEl =\n",
       "        document.querySelector('#df-6a829e78-a391-4c64-bf02-f0d204d8bf30 button');\n",
       "      quickchartButtonEl.style.display =\n",
       "        google.colab.kernel.accessAllowed ? 'block' : 'none';\n",
       "    })();\n",
       "  </script>\n",
       "</div>\n",
       "    </div>\n",
       "  </div>\n"
      ],
      "text/plain": [
       "   index  variable  value\n",
       "0    경기도  20230815   28.0\n",
       "1     서울  20230815   20.0\n",
       "2  경비노동자  20230815   13.0\n",
       "3    태극기  20230815   12.0\n",
       "4    노동자  20230815   12.0\n",
       "5   근로계약  20230815    9.0\n",
       "6     수원  20230815    9.0\n",
       "7     인권  20230815    9.0"
      ]
     },
     "execution_count": 125,
     "metadata": {},
     "output_type": "execute_result"
    }
   ],
   "source": [
    "df_0815[df_0815['variable']=='20230815']"
   ]
  },
  {
   "cell_type": "code",
   "execution_count": null,
   "id": "bJnXQdWuEWOq",
   "metadata": {
    "id": "bJnXQdWuEWOq"
   },
   "outputs": [],
   "source": [
    "df_0815 = make_df(idx1)\n",
    "df_0815 = df_0815[df_0815['variable']=='20230815']\n",
    "\n",
    "df_0816 = make_df(idx2)\n",
    "df_0816 = df_0816[df_0816['variable']=='20230816']\n",
    "\n",
    "df_0817 = make_df(idx3)\n",
    "df_0817 = df_0817[df_0817['variable']=='20230817']\n",
    "\n",
    "df_0818 = make_df(idx4)\n",
    "df_0818 = df_0818[df_0818['variable']=='20230818']\n",
    "\n",
    "df_0819 = make_df(idx5)\n",
    "df_0819 = df_0819[df_0819['variable']=='20230819']\n",
    "\n",
    "df_0820 = make_df(idx6)\n",
    "df_0820 = df_0820[df_0820['variable']=='20230820']\n",
    "\n",
    "df_0821 = make_df(idx7)\n",
    "df_0821 = df_0821[df_0821['variable']=='20230821']"
   ]
  },
  {
   "cell_type": "code",
   "execution_count": null,
   "id": "fPz7YzswEtLT",
   "metadata": {
    "colab": {
     "base_uri": "https://localhost:8080/",
     "height": 733
    },
    "id": "fPz7YzswEtLT",
    "outputId": "7d46eaae-8e78-4a61-b4ad-c024af6e419e"
   },
   "outputs": [
    {
     "data": {
      "text/plain": [
       "Text(0.5, 0.98, '일자별 아파트 관련 단어 트렌드')"
      ]
     },
     "execution_count": 194,
     "metadata": {},
     "output_type": "execute_result"
    },
    {
     "data": {
      "image/png": "[encoded data removed]",
      "text/plain": [
       "<Figure size 1800x1000 with 8 Axes>"
      ]
     },
     "metadata": {},
     "output_type": "display_data"
    }
   ],
   "source": [
    "fig, axis = plt.subplots(2, 4, figsize=(18,10))\n",
    "axis = axis.flatten()\n",
    "\n",
    "a1 = sns.barplot(y=\"index\",  x=\"value\", data=df_0815, ax=axis[0])\n",
    "sns.barplot(y=\"index\",  x=\"value\", data=df_0816, ax=axis[1])\n",
    "sns.barplot(y=\"index\",  x=\"value\", data=df_0817, ax=axis[2])\n",
    "sns.barplot(y=\"index\",  x=\"value\", data=df_0818, ax=axis[3])\n",
    "sns.barplot(y=\"index\",  x=\"value\", data=df_0819, ax=axis[4])\n",
    "sns.barplot(y=\"index\",  x=\"value\", data=df_0820, ax=axis[5])\n",
    "sns.barplot(y=\"index\",  x=\"value\", data=df_0821, ax=axis[6])\n",
    "\n",
    "axis[0].set(ylabel=\"\", xlabel=\"230815\")\n",
    "axis[1].set(ylabel=\"\", xlabel=\"230816\")\n",
    "axis[2].set(ylabel=\"\", xlabel=\"230817\")\n",
    "axis[3].set(ylabel=\"\", xlabel=\"230818\")\n",
    "axis[4].set(ylabel=\"\", xlabel=\"230819\")\n",
    "axis[5].set(ylabel=\"\", xlabel=\"230820\")\n",
    "axis[6].set(ylabel=\"\", xlabel=\"230821\")\n",
    "\n",
    "fig.suptitle('일자별 아파트 관련 단어 트렌드', fontsize=20)"
   ]
  },
  {
   "cell_type": "code",
   "execution_count": null,
   "id": "jWr0D2m8KtuS",
   "metadata": {
    "colab": {
     "base_uri": "https://localhost:8080/"
    },
    "id": "jWr0D2m8KtuS",
    "outputId": "86756c1b-2d87-4caa-9441-5affd690e7f2"
   },
   "outputs": [
    {
     "data": {
      "text/plain": [
       "[array(['경기도', '20230815', 28.0], dtype=object),\n",
       " array(['서울', '20230815', 20.0], dtype=object),\n",
       " array(['경비노동자', '20230815', 13.0], dtype=object),\n",
       " array(['태극기', '20230815', 12.0], dtype=object),\n",
       " array(['노동자', '20230815', 12.0], dtype=object),\n",
       " array(['근로계약', '20230815', 9.0], dtype=object),\n",
       " array(['수원', '20230815', 9.0], dtype=object),\n",
       " array(['인권', '20230815', 9.0], dtype=object)]"
      ]
     },
     "execution_count": 132,
     "metadata": {},
     "output_type": "execute_result"
    }
   ],
   "source": []
  },
  {
   "cell_type": "code",
   "execution_count": null,
   "id": "xNqYYA5xJwcw",
   "metadata": {
    "id": "xNqYYA5xJwcw"
   },
   "outputs": [],
   "source": [
    "# 누적막대그래프"
   ]
  },
  {
   "cell_type": "code",
   "execution_count": null,
   "id": "Qsr8Nf6dMMTP",
   "metadata": {
    "id": "Qsr8Nf6dMMTP"
   },
   "outputs": [],
   "source": [
    "often_df = often_df.reset_index()\n",
    "often_df.head(3)"
   ]
  },
  {
   "cell_type": "code",
   "execution_count": null,
   "id": "VuCzBt4jMVL0",
   "metadata": {
    "colab": {
     "base_uri": "https://localhost:8080/"
    },
    "id": "VuCzBt4jMVL0",
    "outputId": "576f1bd4-fff5-45bf-f5fd-1a8b06d1d578"
   },
   "outputs": [
    {
     "name": "stderr",
     "output_type": "stream",
     "text": [
      "<ipython-input-156-bb1acf834346>:2: FutureWarning: Dropping of nuisance columns in DataFrame reductions (with 'numeric_only=None') is deprecated; in a future version this will raise TypeError.  Select only valid columns before calling the reduction.\n",
      "  idx = often_df.sum(axis=1).sort_values(ascending=False)\n"
     ]
    }
   ],
   "source": [
    "#내림차순 정렬\n",
    "idx = often_df.sum(axis=1).sort_values(ascending=False)\n",
    "often_df = often_df.loc[idx.index]"
   ]
  },
  {
   "cell_type": "code",
   "execution_count": null,
   "id": "CScbReayNbbF",
   "metadata": {
    "colab": {
     "base_uri": "https://localhost:8080/",
     "height": 677
    },
    "id": "CScbReayNbbF",
    "outputId": "15a0d85f-0317-41cd-806b-802c6681eab2"
   },
   "outputs": [
    {
     "data": {
      "text/plain": [
       "<Axes: >"
      ]
     },
     "execution_count": 197,
     "metadata": {},
     "output_type": "execute_result"
    },
    {
     "data": {
      "image/png": "[encoded data removed]",
      "text/plain": [
       "<Figure size 1000x700 with 1 Axes>"
      ]
     },
     "metadata": {},
     "output_type": "display_data"
    }
   ],
   "source": [
    "word_list = list(often_df.loc[:,'index'] )\n",
    "# 어울리는 팔레트 : Set2, tab20\n",
    "colors = sns.color_palette('tab20',len(word_list))\n",
    "often_df.plot.bar(x='index' ,stacked=True, figsize=(10,7), color=colors, xlabel='')\n"
   ]
  },
  {
   "cell_type": "markdown",
   "id": "uoc6iRCWpsff",
   "metadata": {
    "id": "uoc6iRCWpsff"
   },
   "source": [
    "#### 3-3. 워드클라우드"
   ]
  },
  {
   "cell_type": "code",
   "execution_count": null,
   "id": "6a40675d-1edd-4f64-a950-4d4b2c26cf01",
   "metadata": {
    "id": "6a40675d-1edd-4f64-a950-4d4b2c26cf01"
   },
   "outputs": [],
   "source": []
  },
  {
   "cell_type": "code",
   "execution_count": null,
   "id": "97d7a00e-db49-4954-9b05-a692ea80f5ae",
   "metadata": {
    "id": "97d7a00e-db49-4954-9b05-a692ea80f5ae"
   },
   "outputs": [],
   "source": [
    "# ==========================================\n",
    "# ✨ 워드클라우드 그리기"
   ]
  },
  {
   "cell_type": "code",
   "execution_count": null,
   "id": "12c47bcd-fc44-4d7c-ae76-5fd250595cf6",
   "metadata": {
    "id": "12c47bcd-fc44-4d7c-ae76-5fd250595cf6",
    "outputId": "40b917d1-0120-4487-fbb8-5f2f71372ada"
   },
   "outputs": [
    {
     "name": "stdout",
     "output_type": "stream",
     "text": [
      "Requirement already satisfied: wordcloud in c:\\users\\user\\appdata\\local\\programs\\python\\python311\\lib\\site-packages (1.9.2)\n",
      "Requirement already satisfied: numpy>=1.6.1 in c:\\users\\user\\appdata\\local\\programs\\python\\python311\\lib\\site-packages (from wordcloud) (1.25.2)\n",
      "Requirement already satisfied: pillow in c:\\users\\user\\appdata\\local\\programs\\python\\python311\\lib\\site-packages (from wordcloud) (10.0.0)\n",
      "Requirement already satisfied: matplotlib in c:\\users\\user\\appdata\\local\\programs\\python\\python311\\lib\\site-packages (from wordcloud) (3.7.2)\n",
      "Requirement already satisfied: contourpy>=1.0.1 in c:\\users\\user\\appdata\\local\\programs\\python\\python311\\lib\\site-packages (from matplotlib->wordcloud) (1.1.0)\n",
      "Requirement already satisfied: cycler>=0.10 in c:\\users\\user\\appdata\\local\\programs\\python\\python311\\lib\\site-packages (from matplotlib->wordcloud) (0.11.0)\n",
      "Requirement already satisfied: fonttools>=4.22.0 in c:\\users\\user\\appdata\\local\\programs\\python\\python311\\lib\\site-packages (from matplotlib->wordcloud) (4.42.0)\n",
      "Requirement already satisfied: kiwisolver>=1.0.1 in c:\\users\\user\\appdata\\local\\programs\\python\\python311\\lib\\site-packages (from matplotlib->wordcloud) (1.4.4)\n",
      "Requirement already satisfied: packaging>=20.0 in c:\\users\\user\\appdata\\local\\programs\\python\\python311\\lib\\site-packages (from matplotlib->wordcloud) (23.1)\n",
      "Requirement already satisfied: pyparsing<3.1,>=2.3.1 in c:\\users\\user\\appdata\\local\\programs\\python\\python311\\lib\\site-packages (from matplotlib->wordcloud) (3.0.9)\n",
      "Requirement already satisfied: python-dateutil>=2.7 in c:\\users\\user\\appdata\\local\\programs\\python\\python311\\lib\\site-packages (from matplotlib->wordcloud) (2.8.2)\n",
      "Requirement already satisfied: six>=1.5 in c:\\users\\user\\appdata\\local\\programs\\python\\python311\\lib\\site-packages (from python-dateutil>=2.7->matplotlib->wordcloud) (1.16.0)\n"
     ]
    },
    {
     "name": "stderr",
     "output_type": "stream",
     "text": [
      "\n",
      "[notice] A new release of pip is available: 23.1.2 -> 23.2.1\n",
      "[notice] To update, run: python.exe -m pip install --upgrade pip\n"
     ]
    }
   ],
   "source": [
    "# !pip install wordcloud"
   ]
  },
  {
   "cell_type": "code",
   "execution_count": null,
   "id": "e84d1b76-f80b-4faf-bdcd-a07fa8d1b072",
   "metadata": {
    "id": "e84d1b76-f80b-4faf-bdcd-a07fa8d1b072"
   },
   "outputs": [],
   "source": [
    "list(sort_dict_values(all_freq_result))"
   ]
  },
  {
   "cell_type": "code",
   "execution_count": null,
   "id": "34895dec-c8cb-46d1-a946-6afa99e83c2b",
   "metadata": {
    "id": "34895dec-c8cb-46d1-a946-6afa99e83c2b",
    "outputId": "28c8cbe2-4805-4249-b47d-da12fe9acdff"
   },
   "outputs": [
    {
     "data": {
      "text/plain": [
       "958"
      ]
     },
     "execution_count": 48,
     "metadata": {},
     "output_type": "execute_result"
    }
   ],
   "source": [
    "# 워드클라우드에서 아파트 제거하기\n",
    "all_freq_result.pop('아파트', None)"
   ]
  },
  {
   "cell_type": "code",
   "execution_count": null,
   "id": "5b9bd01d-c6a6-41bf-90b6-9e55af858063",
   "metadata": {
    "id": "5b9bd01d-c6a6-41bf-90b6-9e55af858063",
    "outputId": "6e0046e8-35a9-4709-88f7-7fce70f2d538"
   },
   "outputs": [
    {
     "data": {
      "text/plain": [
       "<matplotlib.image.AxesImage at 0x1e3e2528190>"
      ]
     },
     "execution_count": 53,
     "metadata": {},
     "output_type": "execute_result"
    },
    {
     "data": {
      "image/png": "[encoded data removed]",
      "text/plain": [
       "<Figure size 1000x400 with 1 Axes>"
      ]
     },
     "metadata": {
      "image/png": {
       "height": 328,
       "width": 636
      }
     },
     "output_type": "display_data"
    }
   ],
   "source": [
    "# 이상한 데이터들이 많이 있다.. 전처리를 더 해야겠다.\n",
    "# 워드클라우드로 표현하기\n",
    "from wordcloud import WordCloud\n",
    "\n",
    "wc = WordCloud(font_path=\"BMDOHYEON_ttf.ttf\" ,\n",
    "               background_color = 'white')\n",
    "\n",
    "#워드클라우드 사이즈 변경하기\n",
    "plt.figure(figsize = (10,4))\n",
    "\n",
    "plt.axis(\"off\")\n",
    "cloud = wc.generate_from_frequencies(all_freq_result)\n",
    "plt.imshow(cloud)  #워드클라우드 보여주기"
   ]
  },
  {
   "cell_type": "markdown",
   "id": "pB9x7IzWTH1Y",
   "metadata": {
    "id": "pB9x7IzWTH1Y"
   },
   "source": [
    "#### 3-4. 네트워크 연결망(NetworkX)"
   ]
  },
  {
   "cell_type": "code",
   "execution_count": null,
   "id": "AyW8b7JFVH68",
   "metadata": {
    "colab": {
     "base_uri": "https://localhost:8080/"
    },
    "id": "AyW8b7JFVH68",
    "outputId": "cf59aa69-58f0-4313-c274-8c4d5061815f"
   },
   "outputs": [
    {
     "name": "stderr",
     "output_type": "stream",
     "text": [
      "<ipython-input-214-f49011653346>:1: FutureWarning: Dropping of nuisance columns in DataFrame reductions (with 'numeric_only=None') is deprecated; in a future version this will raise TypeError.  Select only valid columns before calling the reduction.\n",
      "  often_df['합계'] = often_df.sum(axis=1)\n"
     ]
    }
   ],
   "source": [
    "often_df['합계'] = often_df.sum(axis=1)"
   ]
  },
  {
   "cell_type": "code",
   "execution_count": null,
   "id": "zPDFAVdWVbWm",
   "metadata": {
    "colab": {
     "base_uri": "https://localhost:8080/",
     "height": 112
    },
    "id": "zPDFAVdWVbWm",
    "outputId": "e9c80ae7-16ef-40b2-9749-d50ee9a83a9a"
   },
   "outputs": [
    {
     "data": {
      "text/html": [
       "\n",
       "  <div id=\"df-9a5806fb-3824-4020-8236-fabe66a0297b\" class=\"colab-df-container\">\n",
       "    <div>\n",
       "<style scoped>\n",
       "    .dataframe tbody tr th:only-of-type {\n",
       "        vertical-align: middle;\n",
       "    }\n",
       "\n",
       "    .dataframe tbody tr th {\n",
       "        vertical-align: top;\n",
       "    }\n",
       "\n",
       "    .dataframe thead th {\n",
       "        text-align: right;\n",
       "    }\n",
       "</style>\n",
       "<table border=\"1\" class=\"dataframe\">\n",
       "  <thead>\n",
       "    <tr style=\"text-align: right;\">\n",
       "      <th></th>\n",
       "      <th>index</th>\n",
       "      <th>합계</th>\n",
       "    </tr>\n",
       "  </thead>\n",
       "  <tbody>\n",
       "    <tr>\n",
       "      <th>4</th>\n",
       "      <td>서울</td>\n",
       "      <td>362.0</td>\n",
       "    </tr>\n",
       "    <tr>\n",
       "      <th>14</th>\n",
       "      <td>LH</td>\n",
       "      <td>192.0</td>\n",
       "    </tr>\n",
       "  </tbody>\n",
       "</table>\n",
       "</div>\n",
       "    <div class=\"colab-df-buttons\">\n",
       "\n",
       "  <div class=\"colab-df-container\">\n",
       "    <button class=\"colab-df-convert\" onclick=\"convertToInteractive('df-9a5806fb-3824-4020-8236-fabe66a0297b')\"\n",
       "            title=\"Convert this dataframe to an interactive table.\"\n",
       "            style=\"display:none;\">\n",
       "\n",
       "  <svg xmlns=\"http://www.w3.org/2000/svg\" height=\"24px\" viewBox=\"0 -960 960 960\">\n",
       "    <path d=\"M120-120v-720h720v720H120Zm60-500h600v-160H180v160Zm220 220h160v-160H400v160Zm0 220h160v-160H400v160ZM180-400h160v-160H180v160Zm440 0h160v-160H620v160ZM180-180h160v-160H180v160Zm440 0h160v-160H620v160Z\"/>\n",
       "  </svg>\n",
       "    </button>\n",
       "\n",
       "  <style>\n",
       "    .colab-df-container {\n",
       "      display:flex;\n",
       "      gap: 12px;\n",
       "    }\n",
       "\n",
       "    .colab-df-convert {\n",
       "      background-color: #E8F0FE;\n",
       "      border: none;\n",
       "      border-radius: 50%;\n",
       "      cursor: pointer;\n",
       "      display: none;\n",
       "      fill: #1967D2;\n",
       "      height: 32px;\n",
       "      padding: 0 0 0 0;\n",
       "      width: 32px;\n",
       "    }\n",
       "\n",
       "    .colab-df-convert:hover {\n",
       "      background-color: #E2EBFA;\n",
       "      box-shadow: 0px 1px 2px rgba(60, 64, 67, 0.3), 0px 1px 3px 1px rgba(60, 64, 67, 0.15);\n",
       "      fill: #174EA6;\n",
       "    }\n",
       "\n",
       "    .colab-df-buttons div {\n",
       "      margin-bottom: 4px;\n",
       "    }\n",
       "\n",
       "    [theme=dark] .colab-df-convert {\n",
       "      background-color: #3B4455;\n",
       "      fill: #D2E3FC;\n",
       "    }\n",
       "\n",
       "    [theme=dark] .colab-df-convert:hover {\n",
       "      background-color: #434B5C;\n",
       "      box-shadow: 0px 1px 3px 1px rgba(0, 0, 0, 0.15);\n",
       "      filter: drop-shadow(0px 1px 2px rgba(0, 0, 0, 0.3));\n",
       "      fill: #FFFFFF;\n",
       "    }\n",
       "  </style>\n",
       "\n",
       "    <script>\n",
       "      const buttonEl =\n",
       "        document.querySelector('#df-9a5806fb-3824-4020-8236-fabe66a0297b button.colab-df-convert');\n",
       "      buttonEl.style.display =\n",
       "        google.colab.kernel.accessAllowed ? 'block' : 'none';\n",
       "\n",
       "      async function convertToInteractive(key) {\n",
       "        const element = document.querySelector('#df-9a5806fb-3824-4020-8236-fabe66a0297b');\n",
       "        const dataTable =\n",
       "          await google.colab.kernel.invokeFunction('convertToInteractive',\n",
       "                                                    [key], {});\n",
       "        if (!dataTable) return;\n",
       "\n",
       "        const docLinkHtml = 'Like what you see? Visit the ' +\n",
       "          '<a target=\"_blank\" href=https://colab.research.google.com/notebooks/data_table.ipynb>data table notebook</a>'\n",
       "          + ' to learn more about interactive tables.';\n",
       "        element.innerHTML = '';\n",
       "        dataTable['output_type'] = 'display_data';\n",
       "        await google.colab.output.renderOutput(dataTable, element);\n",
       "        const docLink = document.createElement('div');\n",
       "        docLink.innerHTML = docLinkHtml;\n",
       "        element.appendChild(docLink);\n",
       "      }\n",
       "    </script>\n",
       "  </div>\n",
       "\n",
       "\n",
       "<div id=\"df-8a958488-aa98-436f-8c40-d798947bcbec\">\n",
       "  <button class=\"colab-df-quickchart\" onclick=\"quickchart('df-8a958488-aa98-436f-8c40-d798947bcbec')\"\n",
       "            title=\"Suggest charts.\"\n",
       "            style=\"display:none;\">\n",
       "\n",
       "<svg xmlns=\"http://www.w3.org/2000/svg\" height=\"24px\"viewBox=\"0 0 24 24\"\n",
       "     width=\"24px\">\n",
       "    <g>\n",
       "        <path d=\"M19 3H5c-1.1 0-2 .9-2 2v14c0 1.1.9 2 2 2h14c1.1 0 2-.9 2-2V5c0-1.1-.9-2-2-2zM9 17H7v-7h2v7zm4 0h-2V7h2v10zm4 0h-2v-4h2v4z\"/>\n",
       "    </g>\n",
       "</svg>\n",
       "  </button>\n",
       "\n",
       "<style>\n",
       "  .colab-df-quickchart {\n",
       "    background-color: #E8F0FE;\n",
       "    border: none;\n",
       "    border-radius: 50%;\n",
       "    cursor: pointer;\n",
       "    display: none;\n",
       "    fill: #1967D2;\n",
       "    height: 32px;\n",
       "    padding: 0 0 0 0;\n",
       "    width: 32px;\n",
       "  }\n",
       "\n",
       "  .colab-df-quickchart:hover {\n",
       "    background-color: #E2EBFA;\n",
       "    box-shadow: 0px 1px 2px rgba(60, 64, 67, 0.3), 0px 1px 3px 1px rgba(60, 64, 67, 0.15);\n",
       "    fill: #174EA6;\n",
       "  }\n",
       "\n",
       "  [theme=dark] .colab-df-quickchart {\n",
       "    background-color: #3B4455;\n",
       "    fill: #D2E3FC;\n",
       "  }\n",
       "\n",
       "  [theme=dark] .colab-df-quickchart:hover {\n",
       "    background-color: #434B5C;\n",
       "    box-shadow: 0px 1px 3px 1px rgba(0, 0, 0, 0.15);\n",
       "    filter: drop-shadow(0px 1px 2px rgba(0, 0, 0, 0.3));\n",
       "    fill: #FFFFFF;\n",
       "  }\n",
       "</style>\n",
       "\n",
       "  <script>\n",
       "    async function quickchart(key) {\n",
       "      const charts = await google.colab.kernel.invokeFunction(\n",
       "          'suggestCharts', [key], {});\n",
       "    }\n",
       "    (() => {\n",
       "      let quickchartButtonEl =\n",
       "        document.querySelector('#df-8a958488-aa98-436f-8c40-d798947bcbec button');\n",
       "      quickchartButtonEl.style.display =\n",
       "        google.colab.kernel.accessAllowed ? 'block' : 'none';\n",
       "    })();\n",
       "  </script>\n",
       "</div>\n",
       "    </div>\n",
       "  </div>\n"
      ],
      "text/plain": [
       "   index     합계\n",
       "4     서울  362.0\n",
       "14    LH  192.0"
      ]
     },
     "execution_count": 218,
     "metadata": {},
     "output_type": "execute_result"
    }
   ],
   "source": [
    "sum_often_df = often_df.loc[:,['index','합계']]\n",
    "sum_often_df.head(2)"
   ]
  },
  {
   "cell_type": "code",
   "execution_count": null,
   "id": "_qe6lvnbTOb6",
   "metadata": {
    "id": "_qe6lvnbTOb6"
   },
   "outputs": [],
   "source": [
    "import networkx as nx"
   ]
  },
  {
   "cell_type": "code",
   "execution_count": null,
   "id": "SoPhlzRxTVOH",
   "metadata": {
    "id": "SoPhlzRxTVOH"
   },
   "outputs": [],
   "source": [
    "g1 = nx.Graph()\n",
    "g2 = nx.DiGraph()"
   ]
  },
  {
   "cell_type": "code",
   "execution_count": null,
   "id": "flCk8GZZWqRr",
   "metadata": {
    "id": "flCk8GZZWqRr"
   },
   "outputs": [],
   "source": [
    "g1.add_node(\"아파트\")"
   ]
  },
  {
   "cell_type": "code",
   "execution_count": null,
   "id": "CdNwMbOXXxkC",
   "metadata": {
    "id": "CdNwMbOXXxkC"
   },
   "outputs": [],
   "source": [
    "g1.add_node(\"4\", node_size=800)"
   ]
  },
  {
   "cell_type": "code",
   "execution_count": null,
   "id": "tuoG9wc6X1mr",
   "metadata": {
    "colab": {
     "base_uri": "https://localhost:8080/",
     "height": 516
    },
    "id": "tuoG9wc6X1mr",
    "outputId": "5050d300-0f25-4b60-90c4-80f5d7eb0690"
   },
   "outputs": [
    {
     "data": {
      "image/png": "[encoded data removed]",
      "text/plain": [
       "<Figure size 640x480 with 1 Axes>"
      ]
     },
     "metadata": {},
     "output_type": "display_data"
    }
   ],
   "source": [
    "nx.draw(g1)"
   ]
  },
  {
   "cell_type": "code",
   "execution_count": null,
   "id": "gtM5iOYwVrGW",
   "metadata": {
    "id": "gtM5iOYwVrGW"
   },
   "outputs": [],
   "source": [
    "for row in sum_often_df.itertuples():\n",
    "    g1.add_node(row[1])  #서울, LH 등등\n",
    "    g1.add_edge(\"아파트\",row[1])"
   ]
  },
  {
   "cell_type": "code",
   "execution_count": null,
   "id": "Q2qaf9WGWb6x",
   "metadata": {
    "colab": {
     "base_uri": "https://localhost:8080/",
     "height": 516
    },
    "id": "Q2qaf9WGWb6x",
    "outputId": "d96a2b13-6f10-440e-b9a9-6c2e7c7ef11f"
   },
   "outputs": [
    {
     "data": {
      "image/png": "[encoded data removed]",
      "text/plain": [
       "<Figure size 640x480 with 1 Axes>"
      ]
     },
     "metadata": {},
     "output_type": "display_data"
    }
   ],
   "source": [
    "nx.draw(g1)"
   ]
  },
  {
   "cell_type": "code",
   "execution_count": null,
   "id": "JEckPdfnVtgc",
   "metadata": {
    "id": "JEckPdfnVtgc"
   },
   "outputs": [],
   "source": []
  },
  {
   "cell_type": "code",
   "execution_count": null,
   "id": "jBOOZkZ6VrC3",
   "metadata": {
    "id": "jBOOZkZ6VrC3"
   },
   "outputs": [],
   "source": []
  },
  {
   "cell_type": "code",
   "execution_count": null,
   "id": "l6VjtjH2Vq8K",
   "metadata": {
    "id": "l6VjtjH2Vq8K"
   },
   "outputs": [],
   "source": []
  },
  {
   "cell_type": "code",
   "execution_count": null,
   "id": "fuVHy5LvTep8",
   "metadata": {
    "id": "fuVHy5LvTep8"
   },
   "outputs": [],
   "source": [
    "g1.add_node(1)            # 생성한 g1그래프에 노드 1을 생성(추가)\n",
    "\n",
    "g1.add_node(\"a\")       # 생성한 g1그래프에 노드 \"a\"를 생성(추가)\n",
    "\n",
    "g1.add_nodes_from( [2, 7, 3] )      # 생성한 그래프에 노드 2, 7, 3을 생성(추가)\n"
   ]
  },
  {
   "cell_type": "code",
   "execution_count": null,
   "id": "5YTVfvJrT2TZ",
   "metadata": {
    "id": "5YTVfvJrT2TZ"
   },
   "outputs": [],
   "source": [
    "g1.add_edge(1,\"a\")   # 노드 1과 \"a\"를 연결하는 Edge를 생성(추가)\n",
    "\n",
    "g1.add_edge(2,7)     # 노드 2와 7을 연결하는 Edge를 생성(추가)\n",
    "\n",
    "g1.add_edges_from( [ (2,7), (1,\"a\")] )     # 노드 2와 7을 연결하는 Edge, 노드 1과 \"a\"를 연결하는 edge를 생성"
   ]
  },
  {
   "cell_type": "code",
   "execution_count": null,
   "id": "9LMqKc_ITf04",
   "metadata": {
    "colab": {
     "base_uri": "https://localhost:8080/",
     "height": 516
    },
    "id": "9LMqKc_ITf04",
    "outputId": "528b3628-42b7-4ea0-c49a-8af527c9e49b"
   },
   "outputs": [
    {
     "data": {
      "image/png": "[encoded data removed]",
      "text/plain": [
       "<Figure size 640x480 with 1 Axes>"
      ]
     },
     "metadata": {},
     "output_type": "display_data"
    }
   ],
   "source": [
    "nx.draw(g1)"
   ]
  },
  {
   "cell_type": "code",
   "execution_count": null,
   "id": "gXC84LQQU5jF",
   "metadata": {
    "id": "gXC84LQQU5jF"
   },
   "outputs": [],
   "source": [
    "#networkX 참고\n",
    "#레이아웃 참고: https://brain-nim.tistory.com/61"
   ]
  },
  {
   "cell_type": "code",
   "execution_count": null,
   "id": "sBRI8pliU0E5",
   "metadata": {
    "colab": {
     "base_uri": "https://localhost:8080/",
     "height": 516
    },
    "id": "sBRI8pliU0E5",
    "outputId": "543baa6e-5bff-4d3e-ba58-6045d8a22339"
   },
   "outputs": [
    {
     "data": {
      "image/png": "[encoded data removed]",
      "text/plain": [
       "<Figure size 640x480 with 1 Axes>"
      ]
     },
     "metadata": {},
     "output_type": "display_data"
    }
   ],
   "source": [
    "pos = nx.kamada_kawai_layout(g1)\n",
    "nx.draw(g1, pos, with_labels=True, font_family='NanumBarunGothic',)"
   ]
  },
  {
   "cell_type": "markdown",
   "id": "A2G7lYbdp0MC",
   "metadata": {
    "id": "A2G7lYbdp0MC"
   },
   "source": [
    "### 언론사별로 본문만 추출하기 - 일단 패스"
   ]
  },
  {
   "cell_type": "code",
   "execution_count": null,
   "id": "OhjJNCIIp06Z",
   "metadata": {
    "id": "OhjJNCIIp06Z"
   },
   "outputs": [],
   "source": []
  },
  {
   "cell_type": "code",
   "execution_count": null,
   "id": "6f7dcfbe-803f-4c45-b07f-c0dcdf234f53",
   "metadata": {
    "id": "6f7dcfbe-803f-4c45-b07f-c0dcdf234f53"
   },
   "outputs": [],
   "source": []
  },
  {
   "cell_type": "code",
   "execution_count": null,
   "id": "6967145f-a5e1-4926-8825-93df199937e5",
   "metadata": {
    "id": "6967145f-a5e1-4926-8825-93df199937e5"
   },
   "outputs": [],
   "source": [
    "# ==================================================================\n",
    "\n",
    "# 패스함!!!!"
   ]
  },
  {
   "cell_type": "code",
   "execution_count": null,
   "id": "bc2ee821-544e-4bc3-888f-44b279cf005c",
   "metadata": {
    "id": "bc2ee821-544e-4bc3-888f-44b279cf005c"
   },
   "outputs": [],
   "source": [
    "'''\n",
    "언론사별로 본문만 추출하기 - 일단 패스\n",
    "\n",
    "사실 본문만 추출하려고 하지 않아도 관련 기사의 경우에는 빈도수가 적을 것 같기는 하다..\n",
    "\n",
    "'''"
   ]
  },
  {
   "cell_type": "code",
   "execution_count": null,
   "id": "9fadcce3-fc22-4d01-8f3a-0d7655bc89f0",
   "metadata": {
    "id": "9fadcce3-fc22-4d01-8f3a-0d7655bc89f0",
    "outputId": "aec5e9a7-92a1-450a-c970-731db1689877",
    "scrolled": true
   },
   "outputs": [
    {
     "data": {
      "text/plain": [
       "123"
      ]
     },
     "execution_count": 328,
     "metadata": {},
     "output_type": "execute_result"
    }
   ],
   "source": [
    "# 언론사별로 본문이 아닌 내용이 있는게 많은데... 이것들을 어떻게 제거해야하는지 ...\n",
    "# 언론사가 123개라서 언론사마다 다르기 때문에 이거는 일단 그냥 넘기기\n",
    "len(set(data.corp)) #123"
   ]
  },
  {
   "cell_type": "code",
   "execution_count": null,
   "id": "4afb62ea-2f3a-4777-9b0e-4125e283c82c",
   "metadata": {
    "id": "4afb62ea-2f3a-4777-9b0e-4125e283c82c",
    "outputId": "c37abcde-e3fb-445b-ad6e-91dae31c9999"
   },
   "outputs": [
    {
     "data": {
      "text/plain": [
       "url                    https://v.daum.net/v/20230819083600263\n",
       "title                       대구 아파트 지하 2층 주차장에서 차량화재…40분 만에 완진\n",
       "corp                                                      SBS\n",
       "thumb       https://img1.daumcdn.net/thumb/S95x77ht.u/?fna...\n",
       "day                                                  20230819\n",
       "time                                                    08:36\n",
       "category                     [{'cat1': '사회', 'cat2': '사회일반'}]\n",
       "img         https://img1.daumcdn.net/thumb/R658x0.q70/?fna...\n",
       "text        사회 대구 아파트 지하 2층 주차장에서 차량화재…40분 만에 완진 입력 2023. ...\n",
       "parsing     {'parsing_NN': {'title': ['대구', '아파트', '지하', '...\n",
       "ner         [[(사회, O), ( , O), (대구, LOCATION), ( , O), (아파...\n",
       "Name: 1223, dtype: object"
      ]
     },
     "execution_count": 364,
     "metadata": {},
     "output_type": "execute_result"
    }
   ],
   "source": [
    "data.iloc[1223]"
   ]
  },
  {
   "cell_type": "code",
   "execution_count": null,
   "id": "36fffe8d-089a-4192-9386-0a8a9b23c7d7",
   "metadata": {
    "id": "36fffe8d-089a-4192-9386-0a8a9b23c7d7",
    "outputId": "ce157164-600d-42b6-af8a-14adfdfce5f8",
    "scrolled": true
   },
   "outputs": [
    {
     "name": "stdout",
     "output_type": "stream",
     "text": [
      "('경찰', 'ORGANIZATION')\n",
      "(\"'순살공법\", 'THEORY')\n",
      "('4곳', 'QUANTITY')\n",
      "('2023. 8. 19. 16:27', 'TIME')\n",
      "('경찰', 'ORGANIZATION')\n",
      "('한국토지주택공사', 'ORGANIZATION')\n",
      "('LH', 'ORGANIZATION')\n",
      "('19일', 'DATE')\n",
      "('경찰', 'ORGANIZATION')\n",
      "('경기북부경찰청', 'ORGANIZATION')\n",
      "('LH', 'ORGANIZATION')\n",
      "('무량판공법', 'CIVILIZATION')\n",
      "('건설기술진흥법', 'CIVILIZATION')\n",
      "('건축법', 'CIVILIZATION')\n",
      "('주택법', 'CIVILIZATION')\n",
      "('LH', 'ORGANIZATION')\n",
      "('GS건설', 'ORGANIZATION')\n",
      "('무량판공법', 'THEORY')\n",
      "('순살 공법', 'THEORY')\n",
      "('한국어', 'CIVILIZATION')\n",
      "('영어', 'CIVILIZATION')\n",
      "('日', 'CIVILIZATION')\n",
      "('일본어', 'CIVILIZATION')\n",
      "('중국어', 'CIVILIZATION')\n",
      "('네델란드어', 'CIVILIZATION')\n",
      "('독일어', 'CIVILIZATION')\n",
      "('러시아', 'CIVILIZATION')\n",
      "('말레이시아어', 'CIVILIZATION')\n",
      "('벵골', 'CIVILIZATION')\n",
      "('베트남어', 'CIVILIZATION')\n",
      "('스페인어', 'CIVILIZATION')\n",
      "('아랍어', 'CIVILIZATION')\n",
      "('이탈리아어', 'CIVILIZATION')\n",
      "('Indone', 'CIVILIZATION')\n",
      "('인도네시아어', 'CIVILIZATION')\n",
      "('태국어', 'CIVILIZATION')\n",
      "('터키', 'CIVILIZATION')\n",
      "('포르투갈어', 'CIVILIZATION')\n",
      "('프랑스어', 'CIVILIZATION')\n",
      "('힌디', 'CIVILIZATION')\n",
      "('좌우', 'TERM')\n",
      "('다음뉴스', 'TERM')\n",
      "('다음뉴스', 'TERM')\n",
      "('경찰', 'ORGANIZATION')\n",
      "('16일', 'DATE')\n",
      "('한국토지주택공사', 'ORGANIZATION')\n",
      "('LH', 'ORGANIZATION')\n",
      "('진주', 'ORGANIZATION')\n",
      "('경찰', 'ORGANIZATION')\n",
      "('이날', 'DATE')\n",
      "('LH', 'ORGANIZATION')\n",
      "('진주 본사', 'ARTIFACT')\n",
      "('건설안전처', 'ORGANIZATION')\n",
      "('주', 'ORGANIZATION')\n",
      "('LH', 'ORGANIZATION')\n",
      "('지난 4일', 'DATE')\n",
      "('경찰청', 'ORGANIZATION')\n",
      "('15개', 'QUANTITY')\n",
      "('직원', 'CIVILIZATION')\n",
      "('16일', 'DATE')\n",
      "('서울', 'LOCATION')\n",
      "('강남구', 'LOCATION')\n",
      "('한국토지주택공사', 'ORGANIZATION')\n",
      "('LH', 'ORGANIZATION')\n",
      "('서울지역본부', 'ORGANIZATION')\n",
      "('2023.8.16', 'DATE')\n",
      "('뉴스1', 'ORGANIZATION')\n",
      "('경찰', 'ORGANIZATION')\n",
      "('한국토지주택공사', 'ORGANIZATION')\n",
      "('LH', 'ORGANIZATION')\n",
      "('19일', 'DATE')\n",
      "('경찰', 'ORGANIZATION')\n",
      "('경기북부경찰청', 'ORGANIZATION')\n",
      "('LH', 'ORGANIZATION')\n",
      "('무량판공법', 'CIVILIZATION')\n",
      "('건설기술진흥법', 'CIVILIZATION')\n",
      "('건축법', 'CIVILIZATION')\n",
      "('주택법', 'CIVILIZATION')\n",
      "('경찰', 'ORGANIZATION')\n",
      "('양주', 'LOCATION')\n",
      "('회천', 'LOCATION')\n",
      "('남양주', 'LOCATION')\n",
      "('별내', 'LOCATION')\n",
      "('파주', 'LOCATION')\n",
      "('운정', 'LOCATION')\n",
      "('고양', 'LOCATION')\n",
      "('장항', 'LOCATION')\n",
      "('4곳', 'QUANTITY')\n",
      "('회천 행복주택', 'ARTIFACT')\n",
      "('135개', 'QUANTITY')\n",
      "('25개', 'QUANTITY')\n",
      "('경찰', 'ORGANIZATION')\n",
      "('입주예정자', 'CIVILIZATION')\n",
      "('올해 4월', 'DATE')\n",
      "('인천', 'LOCATION')\n",
      "('검단 신도시', 'LOCATION')\n",
      "('LH', 'ORGANIZATION')\n",
      "('GS건설', 'ORGANIZATION')\n",
      "('무량판공법', 'THEORY')\n",
      "('순살 공법', 'THEORY')\n",
      "('원희룡', 'PERSON')\n",
      "('국토교통부', 'ORGANIZATION')\n",
      "('장관', 'CIVILIZATION')\n",
      "('지난 9일', 'DATE')\n",
      "('LH', 'ORGANIZATION')\n",
      "('LH', 'ORGANIZATION')\n",
      "('저작권자', 'CIVILIZATION')\n",
      "('돈이 보이는 리얼타임 뉴스', 'ARTIFACT')\n",
      "('이다영', 'PERSON')\n",
      "('김연경', 'PERSON')\n",
      "('입', 'ANIMAL')\n",
      "('정다래', 'PERSON')\n",
      "('남편', 'CIVILIZATION')\n",
      "('전처', 'CIVILIZATION')\n",
      "('정다래', 'PERSON')\n",
      "('아들', 'CIVILIZATION')\n",
      "('수영', 'CIVILIZATION')\n",
      "('2년째', 'DATE')\n",
      "('음주운전', 'CIVILIZATION')\n",
      "('김새론', 'PERSON')\n",
      "('데프콘', 'PERSON')\n",
      "('이수지', 'PERSON')\n",
      "('AI', 'TERM')\n",
      "('프로필', 'TERM')\n",
      "('100억대', 'QUANTITY')\n",
      "('트와이스', 'PERSON')\n",
      "('지효', 'PERSON')\n",
      "('깡소주', 'CIVILIZATION')\n",
      "('이순신', 'PERSON')\n",
      "('장군', 'CIVILIZATION')\n",
      "('명량대첩축제', 'EVENT')\n",
      "('日', 'LOCATION')\n",
      "('호스트', 'CIVILIZATION')\n",
      "('중국', 'LOCATION')\n",
      "('유럽', 'LOCATION')\n",
      "('한국', 'LOCATION')\n",
      "('장애인', 'CIVILIZATION')\n",
      "('한미일', 'LOCATION')\n",
      "('8시간', 'TIME')\n",
      "('尹', 'PERSON')\n",
      "('바이든', 'PERSON')\n",
      "('아버지', 'CIVILIZATION')\n",
      "('삼진아웃', 'TERM')\n",
      "('무릎', 'ANIMAL')\n",
      "('택시', 'ARTIFACT')\n",
      "('승객', 'CIVILIZATION')\n",
      "('타임톡beta', 'TERM')\n",
      "('00:00:00', 'TIME')\n",
      "('타임톡', 'TERM')\n",
      "('IT', 'STUDY_FIELD')\n",
      "('TV', 'TERM')\n",
      "('TO', 'QUANTITY')\n",
      "('축구', 'CIVILIZATION')\n",
      "('축구', 'CIVILIZATION')\n",
      "('야구', 'CIVILIZATION')\n",
      "('야구', 'CIVILIZATION')\n",
      "('골프', 'CIVILIZATION')\n",
      "('농구', 'CIVILIZATION')\n",
      "('배구', 'CIVILIZATION')\n"
     ]
    }
   ],
   "source": [
    "#위쪽만 가져와야 할듯...\n",
    "#밑에 부분에 관련 기사도 나온 것 같다\n",
    "# idx = 99 인 경우에는 23~30번이 내용과 다른 부분  (corp = '머니투데이')\n",
    "# idx = 216 인 경우에는 4~13번이 내용과 다른 부분  (corp = '이데일리')\n",
    "\n",
    "for idx in idxList:\n",
    "    row = data.iloc[idx]\n",
    "    ner = row.ner\n",
    "    for list in ner:\n",
    "        for tup in list:\n",
    "            if tup[1] != 'O':\n",
    "                #print(tup)\n",
    "    break"
   ]
  },
  {
   "cell_type": "code",
   "execution_count": null,
   "id": "8632fd06-7a3b-4b5b-ab45-56efc942ac92",
   "metadata": {
    "id": "8632fd06-7a3b-4b5b-ab45-56efc942ac92",
    "outputId": "61f2da7c-dca3-4f36-c0b1-776c09b7e43d"
   },
   "outputs": [
    {
     "name": "stdout",
     "output_type": "stream",
     "text": [
      "21\n"
     ]
    }
   ],
   "source": [
    "ner = data.iloc[1016].ner\n",
    "print(len(ner))\n",
    "\n",
    "result = []\n",
    "for list in ner:\n",
    "        for tup in list:\n",
    "            if (tup[1] not in remove_ner_list) & (tup[0] not in remove_text_list):\n",
    "                result.append(tup[0])"
   ]
  },
  {
   "cell_type": "code",
   "execution_count": null,
   "id": "c02cf0ce-fda5-484b-96b1-92173d01e5ec",
   "metadata": {
    "id": "c02cf0ce-fda5-484b-96b1-92173d01e5ec",
    "outputId": "d051743e-cf84-46f0-b7cb-ab20b1901e18",
    "scrolled": true
   },
   "outputs": [
    {
     "name": "stdout",
     "output_type": "stream",
     "text": [
      "\n"
     ]
    }
   ],
   "source": [
    "ner[14]\n",
    "#인덱스번호 / 필요없는 인덱스 / 언론사 이름\n",
    "#558 / 26-35 / 경기일보\n",
    "#1016 / 14-21 / SBS\n",
    "#1161 / 8-18 / KBS\n",
    "#1223 / 14-22 / SBS\n",
    "print()"
   ]
  },
  {
   "cell_type": "code",
   "execution_count": null,
   "id": "b039db7e-58af-4a5f-9410-cea23b26e4cb",
   "metadata": {
    "id": "b039db7e-58af-4a5f-9410-cea23b26e4cb"
   },
   "outputs": [],
   "source": []
  },
  {
   "cell_type": "code",
   "execution_count": null,
   "id": "93aaa126-7ccf-49cb-a7ff-b4065b96d3b1",
   "metadata": {
    "id": "93aaa126-7ccf-49cb-a7ff-b4065b96d3b1"
   },
   "outputs": [],
   "source": []
  },
  {
   "cell_type": "code",
   "execution_count": null,
   "id": "468c3bcf-9450-4b2b-8096-9f9c49e99190",
   "metadata": {
    "id": "468c3bcf-9450-4b2b-8096-9f9c49e99190"
   },
   "outputs": [],
   "source": []
  }
 ],
 "metadata": {
  "colab": {
   "provenance": [],
   "toc_visible": true
  },
  "kernelspec": {
   "display_name": "Python 3 (ipykernel)",
   "language": "python",
   "name": "python3"
  },
  "language_info": {
   "codemirror_mode": {
    "name": "ipython",
    "version": 3
   },
   "file_extension": ".py",
   "mimetype": "text/x-python",
   "name": "python",
   "nbconvert_exporter": "python",
   "pygments_lexer": "ipython3",
   "version": "3.9.16"
  }
 },
 "nbformat": 4,
 "nbformat_minor": 5
}
